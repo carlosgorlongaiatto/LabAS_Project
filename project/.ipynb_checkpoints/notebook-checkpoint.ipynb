{
 "cells": [
  {
   "cell_type": "code",
   "execution_count": 3,
   "metadata": {
    "cell_id": "1f26e1f839c74aa6be25ad6ac4a822e6",
    "deepnote_cell_height": 360.296875,
    "deepnote_cell_type": "code",
    "deepnote_to_be_reexecuted": false,
    "execution_millis": 129,
    "execution_start": 1655913807361,
    "source_hash": "6b7741e2",
    "tags": []
   },
   "outputs": [
    {
     "name": "stderr",
     "output_type": "stream",
     "text": [
      "also installing the dependency ‘ISOcodes’\n",
      "\n",
      "\n",
      "Updating HTML index of packages in '.Library'\n",
      "\n",
      "Making 'packages.html' ...\n",
      " done\n",
      "\n",
      "Loading required package: lattice\n",
      "\n",
      "\n",
      "Attaching package: ‘caret’\n",
      "\n",
      "\n",
      "The following object is masked from ‘package:purrr’:\n",
      "\n",
      "    lift\n",
      "\n",
      "\n"
     ]
    }
   ],
   "source": [
    "# install packages\n",
    "#library(tifyverse)\n",
    "install.packages('stopwords')\n",
    "#install.packages('caret')\n",
    "\n",
    "# import packages\n",
    "library(tidyverse)\n",
    "library(stringr)\n",
    "library(stopwords)\n",
    "library(caret)"
   ]
  },
  {
   "cell_type": "code",
   "execution_count": 2,
   "metadata": {
    "cell_id": "81b3e7b4-ca6c-448b-8cbb-819b2723b5c8",
    "deepnote_cell_height": 212.21875,
    "deepnote_cell_type": "code",
    "deepnote_to_be_reexecuted": false,
    "execution_millis": 148,
    "execution_start": 1655910852315,
    "source_hash": "6c06aa25",
    "tags": []
   },
   "outputs": [
    {
     "name": "stdout",
     "output_type": "stream",
     "text": [
      "'data.frame':\t10240 obs. of  3 variables:\n",
      " $ Labels  : int  1 2 3 1 2 5 0 2 2 3 ...\n",
      " $ Text    : chr  \"Says the Annies List political group supports third-trimester abortions on demand.\" \"When did the decline of coal start? It started when natural gas took off that started to begin in (President Ge\"| __truncated__ \"Hillary Clinton agrees with John McCain \\\"by voting to give George Bush the benefit of the doubt on Iran.\\\"\" \"Health care reform legislation is likely to mandate free sex change surgeries.\" ...\n",
      " $ Text_Tag: chr  \"abortion\" \"energy,history,job-accomplishments\" \"foreign-policy\" \"health-care\" ...\n"
     ]
    }
   ],
   "source": [
    "# import data\n",
    "data <- read.csv('data/train.csv')\n",
    "str(data)"
   ]
  },
  {
   "cell_type": "code",
   "execution_count": 3,
   "metadata": {
    "cell_id": "3132fc36e59946d2b30e0b311ec1d702",
    "deepnote_cell_height": 458.921875,
    "deepnote_cell_type": "code",
    "deepnote_to_be_reexecuted": false,
    "execution_millis": 1,
    "execution_start": 1655910852461,
    "source_hash": "3cbefc43",
    "tags": []
   },
   "outputs": [],
   "source": [
    "# define function to clean strings (bag of words model)\n",
    "clean_string <- function(string) {\n",
    "\n",
    "    # split it\n",
    "    pattern <- paste0(c('\\\\s', '\\\\-', '\\\\,', '\\\\:', '\\\\.', '/', '\\\\\\\\', '\\\\\"', '\\'s'), collapse = '|')\n",
    "    temp <- str_split(string, pattern)[[1]]\n",
    "\n",
    "    # lowercase\n",
    "    temp <- tolower(temp)\n",
    "\n",
    "    # remove stop words\n",
    "    temp <-  temp[!(temp %in% stopwords('en'))]\n",
    "\n",
    "    # remove everything that is not a letter\n",
    "    temp <- str_replace_all(temp, '[^a-z]', '')\n",
    "\n",
    "    # remove single letters and empty characters\n",
    "    temp <- temp[!(temp %in%  c(letters, ''))]\n",
    "\n",
    "    return(temp)\n",
    "\n",
    "}"
   ]
  },
  {
   "cell_type": "code",
   "execution_count": 4,
   "metadata": {
    "cell_id": "1fb01021bcfc49e889269e2bf5564cfb",
    "deepnote_cell_height": 512.9375,
    "deepnote_cell_type": "code",
    "deepnote_to_be_reexecuted": false,
    "execution_millis": 0,
    "execution_start": 1655910852462,
    "source_hash": "3a3a9c42",
    "tags": []
   },
   "outputs": [],
   "source": [
    "# define function to clean strings (bag of words model)\n",
    "clean_string <- function(string) {\n",
    "\n",
    "    # lowercase\n",
    "    temp <- tolower(string)\n",
    "\n",
    "    # remove everything that is not a letter\n",
    "    temp <- str_replace_all(temp, '[^a-z\\\\s]', ' ')\n",
    "\n",
    "    # shrink down to just one white space\n",
    "    temp <- str_replace_all(temp,'[\\\\s]+', ' ')\n",
    "\n",
    "    # split it\n",
    "    temp <- str_split(temp, ' ')[[1]]\n",
    "\n",
    "    # remove stop words\n",
    "    stop_words <- unique(str_split(paste0(stopwords(), collapse = ' '), '[\\\\s|\\']')[[1]])\n",
    "    temp <-  temp[!(temp %in% stop_words)]\n",
    "\n",
    "    # remove single letters and empty characters\n",
    "    temp <- temp[!(temp %in%  c(letters, ''))]\n",
    "\n",
    "    return(temp)\n",
    "\n",
    "}"
   ]
  },
  {
   "cell_type": "code",
   "execution_count": 5,
   "metadata": {
    "cell_id": "cda8f85eb09342f2a578bfba375b072f",
    "deepnote_cell_height": 98.921875,
    "deepnote_cell_type": "code",
    "deepnote_to_be_reexecuted": false,
    "execution_millis": 5938,
    "execution_start": 1655910852505,
    "source_hash": "57beb3a9",
    "tags": []
   },
   "outputs": [],
   "source": [
    "# clean strings\n",
    "data$Text_Clean <- lapply(data$Text, clean_string)"
   ]
  },
  {
   "cell_type": "code",
   "execution_count": 6,
   "metadata": {
    "cell_id": "f9642d3844cd4f5c9cc90a81099bd316",
    "deepnote_cell_height": 188.921875,
    "deepnote_cell_type": "code",
    "deepnote_to_be_reexecuted": false,
    "execution_millis": 27,
    "execution_start": 1655910858450,
    "source_hash": "b7b6cb48",
    "tags": []
   },
   "outputs": [],
   "source": [
    "# make splitting reproducible\n",
    "set.seed(54321)\n",
    "\n",
    "# use 80% of dataset as training set and 20% as test set\n",
    "sample <- sample(c(TRUE, FALSE), nrow(data), replace = TRUE, prob = c(0.8,0.2))\n",
    "train  <- data[sample, ]\n",
    "test   <- data[!sample, ]"
   ]
  },
  {
   "cell_type": "code",
   "execution_count": 7,
   "metadata": {
    "cell_id": "17fbbc0ae3564f79a943c5587d96fafd",
    "deepnote_cell_height": 152.9375,
    "deepnote_cell_type": "code",
    "deepnote_to_be_reexecuted": false,
    "execution_millis": 45,
    "execution_start": 1655910858524,
    "source_hash": "a22b131",
    "tags": []
   },
   "outputs": [],
   "source": [
    "# join every list of words into a unique list\n",
    "res <- do.call(c, train$Text_Clean)\n",
    "\n",
    "# create the vocabulary of words of the training set\n",
    "vocabulary <- sort(unique(res))"
   ]
  },
  {
   "cell_type": "code",
   "execution_count": 24,
   "metadata": {
    "cell_id": "ea0e24b93435460397c33685f58f08c4",
    "deepnote_cell_height": 242.9375,
    "deepnote_cell_type": "code",
    "deepnote_to_be_reexecuted": false,
    "execution_millis": 10,
    "execution_start": 1655911851258,
    "source_hash": "4729e5e3",
    "tags": []
   },
   "outputs": [],
   "source": [
    "conditional_prob <- function(word, words_list){\n",
    "\n",
    "    # count occurrence of word in class i\n",
    "    n.word <- sum(words_list == word)\n",
    "\n",
    "    # conditional probability for one words given one class\n",
    "    conditional.prob <- (n.word + 1)\n",
    "\n",
    "    return(conditional.prob)\n",
    "}"
   ]
  },
  {
   "cell_type": "code",
   "execution_count": 25,
   "metadata": {
    "cell_id": "2ef4ac8a1034466499efa782e3750748",
    "deepnote_cell_height": 638.921875,
    "deepnote_cell_type": "code",
    "deepnote_to_be_reexecuted": false,
    "execution_millis": 5879,
    "execution_start": 1655912450112,
    "source_hash": "befc5c41",
    "tags": []
   },
   "outputs": [],
   "source": [
    "# create dataframe of conditional probabilities\n",
    "cond.prob.df <- data.frame(Words = vocabulary)\n",
    "priors <- NULL\n",
    "tot.words.per.lab <- NULL\n",
    "\n",
    "# number of training data\n",
    "N <- nrow(train)\n",
    "\n",
    "for (label in 0:5) {\n",
    "    \n",
    "    # create list of words grouped by class\n",
    "    words_list <- do.call(c, train$Text_Clean[train$Labels == label])\n",
    "\n",
    "    # count total number of words in class i\n",
    "    tot.words <- length(words_list)\n",
    "\n",
    "    # save number of words per label\n",
    "    tot.words.per.lab  <- c(tot.words.per.lab, tot.words + length(vocabulary))\n",
    "\n",
    "    # calculate the conditional probability function for every word of the vocabulary\n",
    "    cond.prob.df[[paste0('Label_', label)]] <- sapply(cond.prob.df$Words, conditional_prob, words_list=words_list)\n",
    "\n",
    "    # normalize the conditional probabilities\n",
    "    Normalization <- (tot.words + length(vocabulary))\n",
    "    cond.prob.df[[paste0('Label_', label)]] <- cond.prob.df[[paste0('Label_', label)]]/Normalization\n",
    "\n",
    "    # calculate prior for the classes\n",
    "    N.c <- sum(train$Labels == label)\n",
    "    priors <- c(priors, N.c/N)\n",
    "}\n",
    "\n"
   ]
  },
  {
   "cell_type": "code",
   "execution_count": 26,
   "metadata": {
    "cell_id": "11d4850ac8734deea4b92fd37142fd36",
    "deepnote_cell_height": 257.8125,
    "deepnote_cell_type": "code",
    "deepnote_output_heights": [
     160.890625
    ],
    "deepnote_to_be_reexecuted": false,
    "execution_millis": 23,
    "execution_start": 1655912461334,
    "source_hash": "644f925b",
    "tags": []
   },
   "outputs": [
    {
     "data": {
      "text/html": [
       "<table class=\"dataframe\">\n",
       "<caption>A data.frame: 2 x 6</caption>\n",
       "<thead>\n",
       "\t<tr><th></th><th scope=col>Label_0</th><th scope=col>Label_1</th><th scope=col>Label_2</th><th scope=col>Label_3</th><th scope=col>Label_4</th><th scope=col>Label_5</th></tr>\n",
       "\t<tr><th></th><th scope=col>&lt;dbl&gt;</th><th scope=col>&lt;dbl&gt;</th><th scope=col>&lt;dbl&gt;</th><th scope=col>&lt;dbl&gt;</th><th scope=col>&lt;dbl&gt;</th><th scope=col>&lt;dbl&gt;</th></tr>\n",
       "</thead>\n",
       "<tbody>\n",
       "\t<tr><th scope=row>1</th><td>4.012358e-05</td><td>7.524171e-05</td><td>3.425479e-05</td><td>3.631478e-05</td><td>5.735918e-05</td><td>4.089311e-05</td></tr>\n",
       "\t<tr><th scope=row>2</th><td>8.024716e-05</td><td>7.524171e-05</td><td>3.425479e-05</td><td>3.631478e-05</td><td>5.735918e-05</td><td>8.178621e-05</td></tr>\n",
       "</tbody>\n",
       "</table>\n"
      ],
      "text/latex": [
       "A data.frame: 2 x 6\n",
       "\\begin{tabular}{r|llllll}\n",
       "  & Label\\_0 & Label\\_1 & Label\\_2 & Label\\_3 & Label\\_4 & Label\\_5\\\\\n",
       "  & <dbl> & <dbl> & <dbl> & <dbl> & <dbl> & <dbl>\\\\\n",
       "\\hline\n",
       "\t1 & 4.012358e-05 & 7.524171e-05 & 3.425479e-05 & 3.631478e-05 & 5.735918e-05 & 4.089311e-05\\\\\n",
       "\t2 & 8.024716e-05 & 7.524171e-05 & 3.425479e-05 & 3.631478e-05 & 5.735918e-05 & 8.178621e-05\\\\\n",
       "\\end{tabular}\n"
      ],
      "text/markdown": [
       "\n",
       "A data.frame: 2 x 6\n",
       "\n",
       "| <!--/--> | Label_0 &lt;dbl&gt; | Label_1 &lt;dbl&gt; | Label_2 &lt;dbl&gt; | Label_3 &lt;dbl&gt; | Label_4 &lt;dbl&gt; | Label_5 &lt;dbl&gt; |\n",
       "|---|---|---|---|---|---|---|\n",
       "| 1 | 4.012358e-05 | 7.524171e-05 | 3.425479e-05 | 3.631478e-05 | 5.735918e-05 | 4.089311e-05 |\n",
       "| 2 | 8.024716e-05 | 7.524171e-05 | 3.425479e-05 | 3.631478e-05 | 5.735918e-05 | 8.178621e-05 |\n",
       "\n"
      ],
      "text/plain": [
       "  Label_0      Label_1      Label_2      Label_3      Label_4      Label_5     \n",
       "1 4.012358e-05 7.524171e-05 3.425479e-05 3.631478e-05 5.735918e-05 4.089311e-05\n",
       "2 8.024716e-05 7.524171e-05 3.425479e-05 3.631478e-05 5.735918e-05 8.178621e-05"
      ]
     },
     "metadata": {},
     "output_type": "display_data"
    }
   ],
   "source": [
    "cond.prob.df[1:2,2:7]"
   ]
  },
  {
   "cell_type": "code",
   "execution_count": 33,
   "metadata": {
    "cell_id": "c6fa930340fb4cae8b7354a2ad691930",
    "deepnote_cell_height": 530.9375,
    "deepnote_cell_type": "code",
    "deepnote_to_be_reexecuted": false,
    "execution_millis": 10,
    "execution_start": 1655913171975,
    "source_hash": "f964eca6",
    "tags": []
   },
   "outputs": [],
   "source": [
    "posterior_prob <- function(text, cond.prob.df, priors, tot.words.per.lab){\n",
    "\n",
    "    # clean text to list of words\n",
    "    words_in_text <- clean_string(text)\n",
    "\n",
    "    filtered.df <- cond.prob.df[ vocabulary %in% words_in_text  ,]\n",
    "\n",
    "    # calculate log-likelihood dataframe\n",
    "    log.likelihood <- log(filtered.df[, 2:7])\n",
    "\n",
    "    # calculate log-posterior per label \n",
    "    log.posterior <- colSums(log.likelihood) + log(priors) \n",
    "\n",
    "    # count the number of words not in dictionary\n",
    "    number.new.words <- length(setdiff(words_in_text, vocabulary))\n",
    "\n",
    "    # calculate log posterior for the words not in the dictionary\n",
    "    log.posterior.new <- - number.new.words*log(tot.words.per.lab)\n",
    "\n",
    "    # update the posterior if we have words not in dictionary\n",
    "    log.posterior <- log.posterior + log.posterior.new\n",
    "\n",
    "    label <- unname(which.max(log.posterior) - 1)\n",
    "    return(label)\n",
    "}\n"
   ]
  },
  {
   "cell_type": "code",
   "execution_count": 45,
   "metadata": {
    "cell_id": "980c0aaba62f4dc29d34673c68197a62",
    "deepnote_cell_height": 206.28125,
    "deepnote_cell_type": "code",
    "deepnote_output_heights": [
     21.1875,
     21.1875
    ],
    "deepnote_to_be_reexecuted": false,
    "execution_millis": 34,
    "execution_start": 1655913482303,
    "owner_user_id": "4056cfae-e546-4483-b374-f55676543ebc",
    "source_hash": "6da0c9d1",
    "tags": []
   },
   "outputs": [
    {
     "data": {
      "text/html": [
       "0"
      ],
      "text/latex": [
       "0"
      ],
      "text/markdown": [
       "0"
      ],
      "text/plain": [
       "[1] 0"
      ]
     },
     "metadata": {},
     "output_type": "display_data"
    },
    {
     "data": {
      "text/html": [
       "0"
      ],
      "text/latex": [
       "0"
      ],
      "text/markdown": [
       "0"
      ],
      "text/plain": [
       "[1] 0"
      ]
     },
     "metadata": {},
     "output_type": "display_data"
    }
   ],
   "source": [
    "i <- 200\n",
    "posterior_prob(train$Text[i], cond.prob.df, priors, tot.words.per.lab)\n",
    "train$Labels[i]"
   ]
  },
  {
   "cell_type": "code",
   "execution_count": 35,
   "metadata": {
    "cell_id": "9334f9a06690446c8514fd454384c428",
    "deepnote_cell_height": 118.109375,
    "deepnote_cell_type": "code",
    "deepnote_output_heights": [
     21.1875
    ],
    "deepnote_to_be_reexecuted": false,
    "execution_millis": 12,
    "execution_start": 1655913177996,
    "source_hash": "491f82c8",
    "tags": []
   },
   "outputs": [
    {
     "data": {
      "text/html": [
       "1"
      ],
      "text/latex": [
       "1"
      ],
      "text/markdown": [
       "1"
      ],
      "text/plain": [
       "[1] 1"
      ]
     },
     "metadata": {},
     "output_type": "display_data"
    }
   ],
   "source": []
  },
  {
   "cell_type": "code",
   "execution_count": 46,
   "metadata": {
    "cell_id": "c1db2c0ecae14d1da8864292f5c7a480",
    "deepnote_cell_height": 116.9375,
    "deepnote_cell_type": "code",
    "deepnote_to_be_reexecuted": false,
    "execution_millis": 13305,
    "execution_start": 1655913680223,
    "owner_user_id": "66111578-48f6-4041-8347-ed013a63b10d",
    "source_hash": "a8e99607",
    "tags": []
   },
   "outputs": [],
   "source": [
    "labels_true <- train$Labels\n",
    "labels <- sapply(train$Text, posterior_prob,\n",
    "                    cond.prob.df = cond.prob.df, priors = priors, tot.words.per.lab = tot.words.per.lab)"
   ]
  },
  {
   "cell_type": "code",
   "execution_count": 47,
   "metadata": {
    "cell_id": "943de1b5105a4ef3b49a70d7a18535bb",
    "deepnote_cell_height": 118.109375,
    "deepnote_cell_type": "code",
    "deepnote_output_heights": [
     21.1875
    ],
    "deepnote_to_be_reexecuted": false,
    "execution_millis": 14,
    "execution_start": 1655913696617,
    "source_hash": "9691e94b",
    "tags": []
   },
   "outputs": [
    {
     "data": {
      "text/html": [
       "0.695355357795928"
      ],
      "text/latex": [
       "0.695355357795928"
      ],
      "text/markdown": [
       "0.695355357795928"
      ],
      "text/plain": [
       "[1] 0.6953554"
      ]
     },
     "metadata": {},
     "output_type": "display_data"
    }
   ],
   "source": [
    "sum(true_labels == predicted_labels)/length(true_labels)"
   ]
  },
  {
   "cell_type": "code",
   "execution_count": 48,
   "metadata": {
    "cell_id": "5b931ae677d94ea1b7cb148ac00bfd5b",
    "deepnote_cell_height": 118.109375,
    "deepnote_cell_type": "code",
    "deepnote_output_heights": [
     21.1875
    ],
    "deepnote_to_be_reexecuted": false,
    "execution_millis": 4,
    "execution_start": 1655913737948,
    "source_hash": "f527a8fd",
    "tags": []
   },
   "outputs": [
    {
     "data": {
      "text/html": [
       "0.166666666666667"
      ],
      "text/latex": [
       "0.166666666666667"
      ],
      "text/markdown": [
       "0.166666666666667"
      ],
      "text/plain": [
       "[1] 0.1666667"
      ]
     },
     "metadata": {},
     "output_type": "display_data"
    }
   ],
   "source": [
    "confusionMatrix(y_actual, y_predict)"
   ]
  },
  {
   "cell_type": "code",
   "execution_count": null,
   "metadata": {
    "cell_id": "62d8c32d267047f891c0ab8a16618150",
    "deepnote_cell_height": 65.9375,
    "deepnote_cell_type": "code",
    "owner_user_id": "0a06ca46-5b60-4cbc-85be-15b044414a83",
    "tags": []
   },
   "outputs": [],
   "source": []
  },
  {
   "cell_type": "markdown",
   "metadata": {
    "created_in_deepnote_cell": true,
    "deepnote_cell_type": "markdown",
    "tags": []
   },
   "source": [
    "<a style='text-decoration:none;line-height:16px;display:flex;color:#5B5B62;padding:10px;justify-content:end;' href='https://deepnote.com?utm_source=created-in-deepnote-cell&projectId=4685fa97-7e91-4cd5-abb2-977409f41ab1' target=\"_blank\">\n",
    "<img alt='Created in deepnote.com' style='display:inline;max-height:16px;margin:0px;margin-right:7.5px;' src='data:image/svg+xml;base64,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' > </img>\n",
    "Created in <span style='font-weight:600;margin-left:4px;'>Deepnote</span></a>"
   ]
  }
 ],
 "metadata": {
  "deepnote": {},
  "deepnote_execution_queue": [
   {
    "cellId": "1f26e1f839c74aa6be25ad6ac4a822e6",
    "msgId": "b990971e-f972-4684-a5c4-979359ef4370",
    "sessionId": "5d6ca3ed-eb1e-40ee-92b7-2f23fbbe119f"
   }
  ],
  "deepnote_notebook_id": "b2d59950-0c98-4961-b7ce-3b5caca5656b",
  "kernelspec": {
   "display_name": "R",
   "language": "R",
   "name": "ir"
  },
  "language_info": {
   "codemirror_mode": "r",
   "file_extension": ".r",
   "mimetype": "text/x-r-source",
   "name": "R",
   "pygments_lexer": "r",
   "version": "4.0.5"
  }
 },
 "nbformat": 4,
 "nbformat_minor": 2
}
