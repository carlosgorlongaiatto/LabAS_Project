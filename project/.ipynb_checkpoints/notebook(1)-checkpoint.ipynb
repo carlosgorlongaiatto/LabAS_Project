{
 "cells": [
  {
   "cell_type": "code",
   "execution_count": 1,
   "metadata": {
    "cell_id": "1f26e1f839c74aa6be25ad6ac4a822e6",
    "deepnote_cell_height": 316.046875,
    "deepnote_cell_type": "code",
    "deepnote_to_be_reexecuted": false,
    "execution_millis": 4052,
    "execution_start": 1655974756137,
    "source_hash": "4504df07",
    "tags": []
   },
   "outputs": [
    {
     "name": "stderr",
     "output_type": "stream",
     "text": [
      "Loading required package: ggplot2\n",
      "\n",
      "Loading required package: lattice\n",
      "\n"
     ]
    }
   ],
   "source": [
    "# install packages\n",
    "#install.packages('stringr')\n",
    "#install.packages('stopwords')\n",
    "#install.packages('caret')\n",
    "\n",
    "# import packages\n",
    "library(stringr)\n",
    "library(stopwords)\n",
    "library(caret)"
   ]
  },
  {
   "cell_type": "code",
   "execution_count": 2,
   "metadata": {
    "cell_id": "81b3e7b4-ca6c-448b-8cbb-819b2723b5c8",
    "deepnote_cell_height": 230.21875,
    "deepnote_cell_type": "code",
    "deepnote_to_be_reexecuted": false,
    "execution_millis": 142,
    "execution_start": 1655974760241,
    "source_hash": "db8b35c0",
    "tags": []
   },
   "outputs": [
    {
     "name": "stdout",
     "output_type": "stream",
     "text": [
      "'data.frame':\t5000 obs. of  3 variables:\n",
      " $ Labels  : int  1 2 3 1 2 5 0 2 2 3 ...\n",
      " $ Text    : chr  \"Says the Annies List political group supports third-trimester abortions on demand.\" \"When did the decline of coal start? It started when natural gas took off that started to begin in (President Ge\"| __truncated__ \"Hillary Clinton agrees with John McCain \\\"by voting to give George Bush the benefit of the doubt on Iran.\\\"\" \"Health care reform legislation is likely to mandate free sex change surgeries.\" ...\n",
      " $ Text_Tag: chr  \"abortion\" \"energy,history,job-accomplishments\" \"foreign-policy\" \"health-care\" ...\n"
     ]
    }
   ],
   "source": [
    "# import data\n",
    "data <- read.csv('data/train.csv')\n",
    "data <- data[1:5000, ]\n",
    "str(data)"
   ]
  },
  {
   "cell_type": "code",
   "execution_count": 3,
   "metadata": {
    "cell_id": "f9642d3844cd4f5c9cc90a81099bd316",
    "deepnote_cell_height": 188.921875,
    "deepnote_cell_type": "code",
    "deepnote_to_be_reexecuted": false,
    "execution_millis": 18,
    "execution_start": 1655974760380,
    "source_hash": "213dad67",
    "tags": []
   },
   "outputs": [],
   "source": [
    "# make splitting reproducible\n",
    "set.seed(54321)\n",
    "\n",
    "# use 80% of dataset as training set and 20% as test set\n",
    "sample <- sample(c(TRUE, FALSE), nrow(data), replace = TRUE, prob = c(0.8,0.2))\n",
    "train <- data[sample, ]\n",
    "test <- data[!sample, ]"
   ]
  },
  {
   "cell_type": "code",
   "execution_count": 4,
   "metadata": {
    "cell_id": "ad2b9f78ee354328bd86183d9837a73b",
    "deepnote_cell_height": 512.9375,
    "deepnote_cell_type": "code",
    "deepnote_to_be_reexecuted": false,
    "execution_millis": 5,
    "execution_start": 1655974760412,
    "source_hash": "1519c2df",
    "tags": []
   },
   "outputs": [],
   "source": [
    "# define function to clean strings (bag of words model)\n",
    "clean_string <- function(string) {\n",
    "\n",
    "    # lowercase\n",
    "    temp <- tolower(string)\n",
    "\n",
    "    # remove everything that is not a letter\n",
    "    temp <- str_replace_all(temp, '[^a-z\\\\s]', ' ')\n",
    "\n",
    "    # shrink down to just one white space\n",
    "    temp <- str_replace_all(temp,'[\\\\s]+', ' ')\n",
    "\n",
    "    # split it\n",
    "    temp <- str_split(temp, ' ')[[1]]\n",
    "\n",
    "    # remove stop words\n",
    "    stop_words <- unique(str_split(paste0(stopwords(source = 'smart'), collapse = ' '), '[\\\\s|\\']')[[1]])\n",
    "    temp <-  temp[!(temp %in% stop_words)]\n",
    "\n",
    "    # remove single letters and empty characters\n",
    "    temp <- temp[!(temp %in%  c(letters, ''))]\n",
    "\n",
    "    return(temp)\n",
    "\n",
    "}"
   ]
  },
  {
   "cell_type": "code",
   "execution_count": 5,
   "metadata": {
    "cell_id": "17fbbc0ae3564f79a943c5587d96fafd",
    "deepnote_cell_height": 309.921875,
    "deepnote_cell_type": "code",
    "deepnote_to_be_reexecuted": false,
    "execution_millis": 3956,
    "execution_start": 1655974760431,
    "source_hash": "386a7bee",
    "tags": []
   },
   "outputs": [
    {
     "name": "stdout",
     "output_type": "stream",
     "text": [
      " chr [1:7141] \"aaron\" \"aarp\" \"aba\" \"abandoned\" \"abandoning\" \"abbas\" ...\n"
     ]
    }
   ],
   "source": [
    "# clean strings in training set\n",
    "train$Text_Clean <- lapply(train$Text, clean_string)\n",
    "\n",
    "# get list of labels\n",
    "label_list <- sort(unique(data$Labels))\n",
    "\n",
    "# join every list of words into a unique list\n",
    "res <- do.call(c, train$Text_Clean)\n",
    "\n",
    "# create the vocabulary of words of the training set\n",
    "vocabulary <- sort(unique(res))\n",
    "str(vocabulary)"
   ]
  },
  {
   "cell_type": "code",
   "execution_count": 6,
   "metadata": {
    "cell_id": "75ecc7b811774cb1bc81ba9e845d248b",
    "deepnote_cell_height": 118.109375,
    "deepnote_cell_type": "code",
    "deepnote_output_heights": [
     21.1875
    ],
    "deepnote_to_be_reexecuted": false,
    "execution_millis": 81,
    "execution_start": 1655974764308,
    "source_hash": "e158785f",
    "tags": []
   },
   "outputs": [
    {
     "data": {
      "text/html": [
       "0"
      ],
      "text/latex": [
       "0"
      ],
      "text/markdown": [
       "0"
      ],
      "text/plain": [
       "[1] 0"
      ]
     },
     "metadata": {},
     "output_type": "display_data"
    }
   ],
   "source": [
    "0*log2(0.001)"
   ]
  },
  {
   "cell_type": "code",
   "execution_count": null,
   "metadata": {
    "cell_id": "16873cafe2f1407192f9a46be754432d",
    "deepnote_cell_height": 1088.921875,
    "deepnote_cell_type": "code",
    "deepnote_to_be_reexecuted": false,
    "execution_millis": 17,
    "execution_start": 1655974764337,
    "source_hash": "9e3becf2",
    "tags": []
   },
   "outputs": [],
   "source": [
    "feature_selection <- T\n",
    "\n",
    "if (feature_selection) {\n",
    "\n",
    "    # named list of named vectors\n",
    "    mutual_information <- list()\n",
    "\n",
    "    count_documents <- function(word, documents) {\n",
    "\n",
    "        counts <- sum(sapply(documents, function(x) word %in% x))\n",
    "        return(counts)\n",
    "\n",
    "    }\n",
    "\n",
    "    # mutual information\n",
    "    for (label in label_list) {\n",
    "\n",
    "        # number of documents that contain t and are in class c\n",
    "        N_11 <- sapply(vocabulary, count_documents, documents = train$Text_Clean[train$Labels == label], USE.NAMES = F)\n",
    "        # number of documents that do not contain t and are in class c\n",
    "        N_01 <- nrow(train[train$Labels == label,]) - N_11\n",
    "\n",
    "        # number of documents that contain t and are not in class c\n",
    "        N_10 <- sapply(vocabulary, count_documents, documents = train$Text_Clean[train$Labels != label], USE.NAMES = F)\n",
    "        # number of documents that do not contain t and are not in class c\n",
    "        N_00 <- nrow(train[train$Labels != label,]) - N_10\n",
    "\n",
    "        # total number of documents\n",
    "        N <- N_11 + N_01 + N_10 + N_00\n",
    "\n",
    "        # mutual information\n",
    "        MI <- (N_11/N)*log2(N*N_11/((N_10 + N_11)*(N_01 + N_11))) +\n",
    "            (N_01/N)*log2(N*N_01/((N_00 + N_01)*(N_01 + N_11))) + \n",
    "            (N_10/N)*log2(N*N_10/((N_10 + N_11)*(N_00 + N_10))) + \n",
    "            (N_00/N)*log2(N*N_00/((N_00 + N_01)*(N_00 + N_10)))\n",
    "\n",
    "        # add names\n",
    "        names(MI) <- vocabulary\n",
    "        # sort and remove NaN\n",
    "        MI <- sort(MI, decreasing = T)\n",
    "        # select k [%] features\n",
    "        MI <- MI[1:floor(0.5*length(MI))]\n",
    "\n",
    "        mutual_information[[paste0('Label_', label)]] <- MI\n",
    "\n",
    "    }\n",
    "\n",
    "    str(mutual_information)\n",
    "\n",
    "    # join every named vector into a unique list\n",
    "    res <- do.call(c, unname(mutual_information))\n",
    "\n",
    "    # create the new vocabulary of words of the training set after feature selection\n",
    "    vocabulary <- sort(unique(names(res)))\n",
    "    str(vocabulary)\n",
    "\n",
    "}"
   ]
  },
  {
   "cell_type": "code",
   "execution_count": null,
   "metadata": {
    "cell_id": "ea0e24b93435460397c33685f58f08c4",
    "deepnote_cell_height": 242.9375,
    "deepnote_cell_type": "code",
    "deepnote_to_be_reexecuted": false,
    "execution_millis": 10,
    "execution_start": 1655974764364,
    "owner_user_id": "4056cfae-e546-4483-b374-f55676543ebc",
    "source_hash": "4729e5e3",
    "tags": []
   },
   "outputs": [],
   "source": [
    "conditional_prob <- function(word, words_list){\n",
    "\n",
    "    # count occurrence of word in class i\n",
    "    n.word <- sum(words_list == word)\n",
    "\n",
    "    # conditional probability for one words given one class\n",
    "    conditional.prob <- (n.word + 1)\n",
    "\n",
    "    return(conditional.prob)\n",
    "}"
   ]
  },
  {
   "cell_type": "code",
   "execution_count": null,
   "metadata": {
    "cell_id": "2ef4ac8a1034466499efa782e3750748",
    "deepnote_cell_height": 638.921875,
    "deepnote_cell_type": "code",
    "deepnote_to_be_reexecuted": false,
    "execution_millis": 3916,
    "execution_start": 1655974764424,
    "source_hash": "9308d423",
    "tags": []
   },
   "outputs": [],
   "source": [
    "# create dataframe of conditional probabilities\n",
    "cond.prob.df <- data.frame(Words = vocabulary)\n",
    "priors <- NULL\n",
    "tot.words.per.lab <- NULL\n",
    "\n",
    "# number of training data\n",
    "N <- nrow(train)\n",
    "\n",
    "for (label in label_list) {\n",
    "    \n",
    "    # create list of words grouped by class\n",
    "    words_list <- do.call(c, train$Text_Clean[train$Labels == label])\n",
    "\n",
    "    # count total number of words in class i\n",
    "    tot.words <- length(words_list)\n",
    "\n",
    "    # save number of words per label\n",
    "    tot.words.per.lab  <- c(tot.words.per.lab, tot.words + length(vocabulary))\n",
    "\n",
    "    # calculate the conditional probability function for every word of the vocabulary\n",
    "    cond.prob.df[[paste0('Label_', label)]] <- sapply(cond.prob.df$Words, conditional_prob, words_list=words_list)\n",
    "\n",
    "    # normalize the conditional probabilities\n",
    "    Normalization <- (tot.words + length(vocabulary))\n",
    "    cond.prob.df[[paste0('Label_', label)]] <- cond.prob.df[[paste0('Label_', label)]]/Normalization\n",
    "\n",
    "    # calculate prior for the classes\n",
    "    N.c <- sum(train$Labels == label)\n",
    "    priors <- c(priors, N.c/N)\n",
    "}\n",
    "\n"
   ]
  },
  {
   "cell_type": "code",
   "execution_count": null,
   "metadata": {
    "cell_id": "11d4850ac8734deea4b92fd37142fd36",
    "deepnote_cell_height": 252.203125,
    "deepnote_cell_type": "code",
    "deepnote_to_be_reexecuted": false,
    "execution_millis": 17,
    "execution_start": 1655974768349,
    "source_hash": "6a802704",
    "tags": []
   },
   "outputs": [],
   "source": [
    "str(cond.prob.df)"
   ]
  },
  {
   "cell_type": "code",
   "execution_count": null,
   "metadata": {
    "cell_id": "c6fa930340fb4cae8b7354a2ad691930",
    "deepnote_cell_height": 530.9375,
    "deepnote_cell_type": "code",
    "deepnote_to_be_reexecuted": false,
    "execution_millis": 11,
    "execution_start": 1655974768374,
    "owner_user_id": "66111578-48f6-4041-8347-ed013a63b10d",
    "source_hash": "74f8efaf",
    "tags": []
   },
   "outputs": [],
   "source": [
    "posterior_prob <- function(text, cond.prob.df, priors, tot.words.per.lab){\n",
    "\n",
    "    # clean text to list of words\n",
    "    words_in_text <- clean_string(text)\n",
    "\n",
    "    filtered.df <- cond.prob.df[ vocabulary %in% words_in_text  ,]\n",
    "\n",
    "    # calculate log-likelihood dataframe\n",
    "    log.likelihood <- log(filtered.df[, 2:(1+length(label_list))])\n",
    "\n",
    "    # calculate log-posterior per label \n",
    "    log.posterior <- colSums(log.likelihood) + log(priors) \n",
    "\n",
    "    # count the number of words not in dictionary\n",
    "    number.new.words <- length(setdiff(words_in_text, vocabulary))\n",
    "\n",
    "    # calculate log posterior for the words not in the dictionary\n",
    "    log.posterior.new <- - number.new.words*log(tot.words.per.lab)\n",
    "\n",
    "    # update the posterior if we have words not in dictionary\n",
    "    log.posterior <- log.posterior + log.posterior.new\n",
    "\n",
    "    label <- unname(which.max(log.posterior) - 1)\n",
    "    return(label)\n",
    "}\n"
   ]
  },
  {
   "cell_type": "code",
   "execution_count": null,
   "metadata": {
    "cell_id": "c1db2c0ecae14d1da8864292f5c7a480",
    "deepnote_cell_height": 152.9375,
    "deepnote_cell_type": "code",
    "deepnote_to_be_reexecuted": false,
    "execution_millis": 2864,
    "execution_start": 1655974768395,
    "source_hash": "daf724a5",
    "tags": []
   },
   "outputs": [],
   "source": [
    "# predict on test set\n",
    "labels_true <- test$Labels\n",
    "labels_predicted <- sapply(test$Text, posterior_prob,\n",
    "                    cond.prob.df = cond.prob.df, priors = priors, tot.words.per.lab = tot.words.per.lab)\n",
    "labels_predicted <- unname(labels_predicted)"
   ]
  },
  {
   "cell_type": "code",
   "execution_count": null,
   "metadata": {
    "cell_id": "62d8c32d267047f891c0ab8a16618150",
    "deepnote_cell_height": 304.171875,
    "deepnote_cell_type": "code",
    "deepnote_to_be_reexecuted": false,
    "execution_millis": 24,
    "execution_start": 1655974771284,
    "source_hash": "8c32bd0d",
    "tags": []
   },
   "outputs": [],
   "source": [
    "# confusion matrix\n",
    "results <- table(factor(labels_true), factor(labels_predicted))\n",
    "results <- matrix(results, ncol = length(label_list))\n",
    "results <- t(t(results)/colSums(results))\n",
    "print(round(results, 2))"
   ]
  },
  {
   "cell_type": "code",
   "execution_count": null,
   "metadata": {
    "cell_id": "c5371de8a9d44e93b7c87bd38ffd49ae",
    "deepnote_cell_height": 111.9375,
    "deepnote_cell_type": "code",
    "deepnote_to_be_reexecuted": false,
    "execution_millis": 2110887,
    "execution_start": 1655974771319,
    "source_hash": "7feb8449",
    "tags": []
   },
   "outputs": [],
   "source": [
    "str(vocabulary)"
   ]
  },
  {
   "cell_type": "code",
   "execution_count": null,
   "metadata": {
    "cell_id": "8f53596c544544ccb16d2f01793878b0",
    "deepnote_cell_height": 80.9375,
    "deepnote_cell_type": "code",
    "deepnote_to_be_reexecuted": false,
    "execution_millis": 18,
    "execution_start": 1655974771328,
    "source_hash": "b623e53d",
    "tags": []
   },
   "outputs": [],
   "source": []
  },
  {
   "cell_type": "code",
   "execution_count": null,
   "metadata": {
    "cell_id": "719491ca77ab463dafb7d3552e96fffe",
    "deepnote_cell_height": 80.9375,
    "deepnote_cell_type": "code",
    "deepnote_to_be_reexecuted": false,
    "execution_millis": 0,
    "execution_start": 1655974771393,
    "source_hash": "b623e53d",
    "tags": []
   },
   "outputs": [],
   "source": []
  },
  {
   "cell_type": "markdown",
   "metadata": {
    "created_in_deepnote_cell": true,
    "deepnote_cell_type": "markdown",
    "tags": []
   },
   "source": [
    "<a style='text-decoration:none;line-height:16px;display:flex;color:#5B5B62;padding:10px;justify-content:end;' href='https://deepnote.com?utm_source=created-in-deepnote-cell&projectId=4685fa97-7e91-4cd5-abb2-977409f41ab1' target=\"_blank\">\n",
    "<img alt='Created in deepnote.com' style='display:inline;max-height:16px;margin:0px;margin-right:7.5px;' src='data:image/svg+xml;base64,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' > </img>\n",
    "Created in <span style='font-weight:600;margin-left:4px;'>Deepnote</span></a>"
   ]
  }
 ],
 "metadata": {
  "deepnote": {},
  "deepnote_execution_queue": [],
  "deepnote_notebook_id": "b2d59950-0c98-4961-b7ce-3b5caca5656b",
  "kernelspec": {
   "display_name": "R",
   "language": "R",
   "name": "ir"
  },
  "language_info": {
   "codemirror_mode": "r",
   "file_extension": ".r",
   "mimetype": "text/x-r-source",
   "name": "R",
   "pygments_lexer": "r",
   "version": "4.0.5"
  }
 },
 "nbformat": 4,
 "nbformat_minor": 2
}
