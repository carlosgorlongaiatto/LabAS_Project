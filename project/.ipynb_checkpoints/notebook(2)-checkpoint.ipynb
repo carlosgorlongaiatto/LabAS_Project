{
 "cells": [
  {
   "cell_type": "code",
   "execution_count": 1,
   "metadata": {
    "cell_id": "1f26e1f839c74aa6be25ad6ac4a822e6",
    "deepnote_cell_height": 659,
    "deepnote_cell_type": "code",
    "deepnote_to_be_reexecuted": false,
    "execution_millis": 2887,
    "execution_start": 1655994674796,
    "source_hash": "147a50d",
    "tags": []
   },
   "outputs": [
    {
     "name": "stderr",
     "output_type": "stream",
     "text": [
      "Updating HTML index of packages in '.Library'\n",
      "\n",
      "Making 'packages.html' ...\n",
      " done\n",
      "\n",
      "Loading required package: koRpus.lang.en\n",
      "\n",
      "Loading required package: koRpus\n",
      "\n",
      "Loading required package: sylly\n",
      "\n",
      "For information on available language packages for 'koRpus', run\n",
      "\n",
      "  available.koRpus.lang()\n",
      "\n",
      "and see ?install.koRpus.lang()\n",
      "\n",
      "\n"
     ]
    }
   ],
   "source": [
    "# install packages\n",
    "#install.packages('stringr')\n",
    "#install.packages('stopwords')\n",
    "install.packages('textstem')\n",
    "\n",
    "# import packages\n",
    "library(stringr)\n",
    "library(stopwords)\n",
    "library(textstem)"
   ]
  },
  {
   "cell_type": "code",
   "execution_count": 2,
   "metadata": {
    "cell_id": "81b3e7b4-ca6c-448b-8cbb-819b2723b5c8",
    "deepnote_cell_height": 222.8000030517578,
    "deepnote_cell_type": "code",
    "deepnote_to_be_reexecuted": false,
    "execution_millis": 73,
    "execution_start": 1655990782123,
    "owner_user_id": "0a06ca46-5b60-4cbc-85be-15b044414a83",
    "source_hash": "2d1aa6db",
    "tags": []
   },
   "outputs": [
    {
     "name": "stdout",
     "output_type": "stream",
     "text": [
      "'data.frame':\t2000 obs. of  3 variables:\n",
      " $ Labels  : int  1 2 3 1 2 5 0 2 2 3 ...\n",
      " $ Text    : chr  \"Says the Annies List political group supports third-trimester abortions on demand.\" \"When did the decline of coal start? It started when natural gas took off that started to begin in (President Ge\"| __truncated__ \"Hillary Clinton agrees with John McCain \\\"by voting to give George Bush the benefit of the doubt on Iran.\\\"\" \"Health care reform legislation is likely to mandate free sex change surgeries.\" ...\n",
      " $ Text_Tag: chr  \"abortion\" \"energy,history,job-accomplishments\" \"foreign-policy\" \"health-care\" ...\n"
     ]
    }
   ],
   "source": [
    "# import data\n",
    "data <- read.csv('data/train.csv')\n",
    "data <- data[1:2000, ]\n",
    "str(data)"
   ]
  },
  {
   "cell_type": "code",
   "execution_count": 3,
   "metadata": {
    "cell_id": "f9642d3844cd4f5c9cc90a81099bd316",
    "deepnote_cell_height": 189,
    "deepnote_cell_type": "code",
    "deepnote_to_be_reexecuted": false,
    "execution_millis": 20,
    "execution_start": 1655990783110,
    "source_hash": "213dad67",
    "tags": []
   },
   "outputs": [],
   "source": [
    "# make splitting reproducible\n",
    "set.seed(54321)\n",
    "\n",
    "# use 80% of dataset as training set and 20% as test set\n",
    "sample <- sample(c(TRUE, FALSE), nrow(data), replace = TRUE, prob = c(0.8,0.2))\n",
    "train <- data[sample, ]\n",
    "test <- data[!sample, ]"
   ]
  },
  {
   "cell_type": "code",
   "execution_count": 4,
   "metadata": {
    "cell_id": "ad2b9f78ee354328bd86183d9837a73b",
    "deepnote_cell_height": 513,
    "deepnote_cell_type": "code",
    "deepnote_to_be_reexecuted": false,
    "execution_millis": 9,
    "execution_start": 1655990783944,
    "source_hash": "3a3a9c42",
    "tags": []
   },
   "outputs": [],
   "source": [
    "# define function to clean strings (bag of words model)\n",
    "clean_string <- function(string) {\n",
    "\n",
    "    # lowercase\n",
    "    temp <- tolower(string)\n",
    "\n",
    "    # remove everything that is not a letter\n",
    "    temp <- str_replace_all(temp, '[^a-z\\\\s]', ' ')\n",
    "\n",
    "    # shrink down to just one white space\n",
    "    temp <- str_replace_all(temp,'[\\\\s]+', ' ')\n",
    "\n",
    "    # split it\n",
    "    temp <- str_split(temp, ' ')[[1]]\n",
    "\n",
    "    # remove stop words\n",
    "    stop_words <- unique(str_split(paste0(stopwords(), collapse = ' '), '[\\\\s|\\']')[[1]])\n",
    "    temp <-  temp[!(temp %in% stop_words)]\n",
    "\n",
    "    # remove single letters and empty characters\n",
    "    temp <- temp[!(temp %in%  c(letters, ''))]\n",
    "\n",
    "    return(temp)\n",
    "\n",
    "}"
   ]
  },
  {
   "cell_type": "code",
   "execution_count": 5,
   "metadata": {
    "cell_id": "17fbbc0ae3564f79a943c5587d96fafd",
    "deepnote_cell_height": 345.20001220703125,
    "deepnote_cell_type": "code",
    "deepnote_to_be_reexecuted": false,
    "execution_millis": 397,
    "execution_start": 1655990785500,
    "source_hash": "386a7bee",
    "tags": []
   },
   "outputs": [
    {
     "name": "stdout",
     "output_type": "stream",
     "text": [
      " chr [1:3038] \"aarp\" \"abbas\" \"abbott\" \"abdul\" \"abiding\" \"ability\" \"able\" ...\n"
     ]
    }
   ],
   "source": [
    "# clean strings in training set\n",
    "train$Text_Clean <- lapply(train$Text, clean_string)\n",
    "\n",
    "# stemmed and clean strings in training set\n",
    "trai$Text_Stem <- lapply(train$Text_clean, )\n",
    "\n",
    "\n",
    "# get list of labels\n",
    "label_list <- sort(unique(data$Labels))\n",
    "\n",
    "# join every list of words into a unique list\n",
    "res <- do.call(c, train$Text_Clean)\n",
    "\n",
    "# create the vocabulary of words of the training set\n",
    "vocabulary <- sort(unique(res))\n",
    "str(vocabulary)"
   ]
  },
  {
   "cell_type": "code",
   "execution_count": 6,
   "metadata": {
    "cell_id": "16873cafe2f1407192f9a46be754432d",
    "deepnote_cell_height": 891,
    "deepnote_cell_type": "code",
    "deepnote_to_be_reexecuted": false,
    "execution_millis": 26512,
    "execution_start": 1655990793258,
    "source_hash": "ecac4bc7",
    "tags": []
   },
   "outputs": [],
   "source": [
    "# named list of named vectors\n",
    "mutual_information <- list()\n",
    "\n",
    "if (TRUE) {\n",
    "\n",
    "    count_documents <- function(word, documents) {\n",
    "\n",
    "        counts <- sum(sapply(documents, function(x) word %in% x))\n",
    "        return(counts)\n",
    "\n",
    "    }\n",
    "\n",
    "    for (label in label_list) {\n",
    "\n",
    "        # number of documents that contain t and are in class c\n",
    "        N_11 <- sapply(vocabulary, count_documents, documents = train$Text_Clean[train$Labels == label], USE.NAMES = F)\n",
    "        # number of documents that do not contain t and are in class c\n",
    "        N_01 <- nrow(train[train$Labels == label,]) - N_11\n",
    "\n",
    "        # number of documents that contain t and are not in class c\n",
    "        N_10 <- sapply(vocabulary, count_documents, documents = train$Text_Clean[train$Labels != label], USE.NAMES = F)\n",
    "        # number of documents that do not contain t and are not in class c\n",
    "        N_00 <- nrow(train[train$Labels != label,]) - N_10\n",
    "\n",
    "        # total number of documents\n",
    "        N <- N_11 + N_01 + N_10 + N_00\n",
    "\n",
    "        # mutual information\n",
    "        log_loss_11 <- ifelse(N_11 > 0, log2(N*N_11/((N_10 + N_11)*(N_01 + N_11))), 0)\n",
    "        log_loss_01 <- ifelse(N_01 > 0, log2(N*N_01/((N_00 + N_01)*(N_01 + N_11))), 0)\n",
    "        log_loss_10 <- ifelse(N_10 > 0, log2(N*N_10/((N_10 + N_11)*(N_00 + N_10))), 0)\n",
    "        log_loss_00 <- ifelse(N_00 > 0, log2(N*N_00/((N_00 + N_01)*(N_00 + N_10))), 0)\n",
    "        \n",
    "        MI <- (N_11/N)*log_loss_11 +\n",
    "            (N_01/N)*log_loss_01 + \n",
    "            (N_10/N)*log_loss_10 + \n",
    "            (N_00/N)*log_loss_00\n",
    "\n",
    "        # add names\n",
    "        names(MI) <- vocabulary\n",
    "\n",
    "        mutual_information[[paste0('Label_', label)]] <- MI\n",
    "\n",
    "    }\n",
    "\n",
    "}"
   ]
  },
  {
   "cell_type": "code",
   "execution_count": 7,
   "metadata": {
    "cell_id": "46f3344e0cd04b0689d697503fe131f4",
    "deepnote_cell_height": 341.6000061035156,
    "deepnote_cell_type": "code",
    "deepnote_to_be_reexecuted": false,
    "execution_millis": 90,
    "execution_start": 1655990826042,
    "source_hash": "e85264cf",
    "tags": []
   },
   "outputs": [
    {
     "name": "stdout",
     "output_type": "stream",
     "text": [
      "List of 6\n",
      " $ Label_0: Named num [1:3038] 0.000279 0.000279 0.000279 0.000279 0.000279 ...\n",
      "  ..- attr(*, \"names\")= chr [1:3038] \"aarp\" \"abbas\" \"abbott\" \"abdul\" ...\n",
      " $ Label_1: Named num [1:3038] 0.000435 0.000435 0.000435 0.000435 0.000435 ...\n",
      "  ..- attr(*, \"names\")= chr [1:3038] \"aarp\" \"abbas\" \"abbott\" \"abdul\" ...\n",
      " $ Label_2: Named num [1:3038] 0.002904 0.000412 0.000412 0.000412 0.000412 ...\n",
      "  ..- attr(*, \"names\")= chr [1:3038] \"aarp\" \"abbas\" \"abbott\" \"abdul\" ...\n",
      " $ Label_3: Named num [1:3038] 0.000403 0.000403 0.000403 0.000403 0.002938 ...\n",
      "  ..- attr(*, \"names\")= chr [1:3038] \"aarp\" \"abbas\" \"abbott\" \"abdul\" ...\n",
      " $ Label_4: Named num [1:3038] 0.000153 0.004589 0.004589 0.000153 0.000153 ...\n",
      "  ..- attr(*, \"names\")= chr [1:3038] \"aarp\" \"abbas\" \"abbott\" \"abdul\" ...\n",
      " $ Label_5: Named num [1:3038] 0.000322 0.000322 0.000322 0.003308 0.000322 ...\n",
      "  ..- attr(*, \"names\")= chr [1:3038] \"aarp\" \"abbas\" \"abbott\" \"abdul\" ...\n"
     ]
    }
   ],
   "source": [
    "str(mutual_information)"
   ]
  },
  {
   "cell_type": "code",
   "execution_count": 9,
   "metadata": {
    "cell_id": "a71316ca0b2c441b9d58fa9e84781dc0",
    "deepnote_cell_height": 207.1999969482422,
    "deepnote_cell_type": "code",
    "deepnote_to_be_reexecuted": false,
    "execution_millis": 13,
    "execution_start": 1655990840494,
    "source_hash": "7fad1bd8",
    "tags": []
   },
   "outputs": [
    {
     "name": "stdout",
     "output_type": "stream",
     "text": [
      "0 \n",
      "0 \n",
      "0 \n",
      "0 \n",
      "0 \n",
      "0 \n"
     ]
    }
   ],
   "source": [
    "for (label in label_list) {cat(sum(is.nan(mutual_information[[paste0('Label_', label)]])), '\\n')}"
   ]
  },
  {
   "cell_type": "code",
   "execution_count": 10,
   "metadata": {
    "cell_id": "f2de6df9047a49978cae9981199ed730",
    "deepnote_cell_height": 910,
    "deepnote_cell_type": "code",
    "deepnote_output_heights": [
     579
    ],
    "deepnote_to_be_reexecuted": false,
    "execution_millis": 235,
    "execution_start": 1655990851583,
    "source_hash": "8642de8f",
    "tags": []
   },
   "outputs": [
    {
     "data": {
      "image/png": "[encoded data removed]",
      "text/plain": [
       "Plot with title “Label_5”"
      ]
     },
     "metadata": {
      "image/png": {
       "height": 1200,
       "width": 1800
      }
     },
     "output_type": "display_data"
    }
   ],
   "source": [
    "# plot ordered mutual information for each class\n",
    "options(repr.plot.width = 15, repr.plot.height = 10)\n",
    "par(mfrow = c(2,3))\n",
    "\n",
    "for (label in label_list) {\n",
    "\n",
    "    MI <- mutual_information[[paste0('Label_', label)]]\n",
    "    MI[is.nan(MI)] <- 0\n",
    "    MI <- sort(MI, decreasing = T)\n",
    "    plot(1:length(MI), MI, ylim = c(0, 0.015), type = 'l', lwd = 2, col = 'navyblue',\n",
    "        main = paste0('Label_', label), xlab = 'word index', ylab = 'MI',\n",
    "        cex.lab = 1.5, cex.axis = 1.5, cex.main = 2)\n",
    "        \n",
    "}"
   ]
  },
  {
   "cell_type": "code",
   "execution_count": 29,
   "metadata": {
    "cell_id": "025196a1fa524149be7cb075b2f691fe",
    "deepnote_cell_height": 369,
    "deepnote_cell_type": "code",
    "deepnote_to_be_reexecuted": false,
    "execution_millis": 19,
    "execution_start": 1655991083027,
    "source_hash": "f67ceb1d",
    "tags": []
   },
   "outputs": [],
   "source": [
    "# feature selection\n",
    "selected_features <- list()\n",
    "\n",
    "for (label in label_list) {\n",
    "\n",
    "    MI <- mutual_information[[paste0('Label_', label)]]\n",
    "\n",
    "    # sort and remove NaN\n",
    "    MI <- sort(MI, decreasing = T)\n",
    "\n",
    "    # select k [%] features\n",
    "    k <- 0.1\n",
    "    MI <- MI[1:floor(k*length(MI))]\n",
    "\n",
    "    selected_features[[paste0('Label_', label)]] <- MI\n",
    "\n",
    "}"
   ]
  },
  {
   "cell_type": "code",
   "execution_count": 30,
   "metadata": {
    "cell_id": "c10f023d91f54d9aa0aaa6d6a751a924",
    "deepnote_cell_height": 341.6000061035156,
    "deepnote_cell_type": "code",
    "deepnote_to_be_reexecuted": false,
    "execution_millis": 24,
    "execution_start": 1655991083052,
    "source_hash": "7229b421",
    "tags": []
   },
   "outputs": [
    {
     "name": "stdout",
     "output_type": "stream",
     "text": [
      "List of 6\n",
      " $ Label_0: Named num [1:303] 0.00799 0.00711 0.00711 0.00711 0.00711 ...\n",
      "  ..- attr(*, \"names\")= chr [1:303] \"supports\" \"bid\" \"book\" \"bulbs\" ...\n",
      " $ Label_1: Named num [1:303] 0.00847 0.00799 0.0074 0.00659 0.00659 ...\n",
      "  ..- attr(*, \"names\")= chr [1:303] \"practices\" \"percent\" \"entire\" \"passed\" ...\n",
      " $ Label_2: Named num [1:303] 0.01044 0.00874 0.00874 0.00874 0.0078 ...\n",
      "  ..- attr(*, \"names\")= chr [1:303] \"jobs\" \"ii\" \"possible\" \"space\" ...\n",
      " $ Label_3: Named num [1:303] 0.01181 0.00884 0.00884 0.00776 0.00766 ...\n",
      "  ..- attr(*, \"names\")= chr [1:303] \"level\" \"smaller\" \"students\" \"security\" ...\n",
      " $ Label_4: Named num [1:303] 0.01385 0.00991 0.00991 0.0092 0.0092 ...\n",
      "  ..- attr(*, \"names\")= chr [1:303] \"probably\" \"order\" \"university\" \"blacks\" ...\n",
      " $ Label_5: Named num [1:303] 0.00996 0.00996 0.00695 0.00667 0.00663 ...\n",
      "  ..- attr(*, \"names\")= chr [1:303] \"early\" \"reduced\" \"time\" \"debt\" ...\n"
     ]
    }
   ],
   "source": [
    "str(selected_features)"
   ]
  },
  {
   "cell_type": "code",
   "execution_count": 31,
   "metadata": {
    "cell_id": "a3da3ec9b3174a55ada2c282082ead27",
    "deepnote_cell_height": 910,
    "deepnote_cell_type": "code",
    "deepnote_output_heights": [
     579
    ],
    "deepnote_to_be_reexecuted": false,
    "execution_millis": 112,
    "execution_start": 1655991083118,
    "source_hash": "8f2a1c1e",
    "tags": []
   },
   "outputs": [
    {
     "data": {
      "image/png": "[encoded data removed]",
      "text/plain": [
       "Plot with title “Label_5”"
      ]
     },
     "metadata": {
      "image/png": {
       "height": 1200,
       "width": 1800
      }
     },
     "output_type": "display_data"
    }
   ],
   "source": [
    "# plot ordered selected features for each class\n",
    "options(repr.plot.width = 15, repr.plot.height = 10)\n",
    "par(mfrow = c(2,3))\n",
    "\n",
    "for (label in label_list) {\n",
    "\n",
    "    MI <- selected_features[[paste0('Label_', label)]]\n",
    "    MI[is.nan(MI)] <- 0\n",
    "    MI <- sort(MI, decreasing = T)\n",
    "    plot(1:length(MI), MI, ylim = c(0, 0.015), type = 'l', lwd = 2, col = 'navyblue',\n",
    "        main = paste0('Label_', label), xlab = 'word index', ylab = 'MI',\n",
    "        cex.lab = 1.5, cex.axis = 1.5, cex.main = 2)\n",
    "        \n",
    "}"
   ]
  },
  {
   "cell_type": "code",
   "execution_count": 32,
   "metadata": {
    "cell_id": "083207be16704b42b0df81f58da03c89",
    "deepnote_cell_height": 201.1999969482422,
    "deepnote_cell_type": "code",
    "deepnote_to_be_reexecuted": false,
    "execution_millis": 19,
    "execution_start": 1655991083227,
    "source_hash": "b6f6d5b",
    "tags": []
   },
   "outputs": [
    {
     "name": "stdout",
     "output_type": "stream",
     "text": [
      " chr [1:1774] \"aarp\" \"abbas\" \"abbott\" \"abdul\" \"abiding\" \"ability\" \"abolish\" ...\n"
     ]
    }
   ],
   "source": [
    "# join every named vector into a unique list\n",
    "res <- do.call(c, unname(selected_features))\n",
    "\n",
    "# create the new vocabulary of words of the training set after feature selection\n",
    "vocabulary <- sort(unique(names(res)))\n",
    "str(vocabulary)"
   ]
  },
  {
   "cell_type": "code",
   "execution_count": 33,
   "metadata": {
    "cell_id": "ea0e24b93435460397c33685f58f08c4",
    "deepnote_cell_height": 243,
    "deepnote_cell_type": "code",
    "deepnote_to_be_reexecuted": false,
    "execution_millis": 13,
    "execution_start": 1655991083250,
    "source_hash": "4729e5e3",
    "tags": []
   },
   "outputs": [],
   "source": [
    "conditional_prob <- function(word, words_list){\n",
    "\n",
    "    # count occurrence of word in class i\n",
    "    n.word <- sum(words_list == word)\n",
    "\n",
    "    # conditional probability for one words given one class\n",
    "    conditional.prob <- (n.word + 1)\n",
    "\n",
    "    return(conditional.prob)\n",
    "}"
   ]
  },
  {
   "cell_type": "code",
   "execution_count": 34,
   "metadata": {
    "cell_id": "2ef4ac8a1034466499efa782e3750748",
    "deepnote_cell_height": 639,
    "deepnote_cell_type": "code",
    "deepnote_to_be_reexecuted": false,
    "execution_millis": 135,
    "execution_start": 1655991083267,
    "source_hash": "9308d423",
    "tags": []
   },
   "outputs": [],
   "source": [
    "# create dataframe of conditional probabilities\n",
    "cond.prob.df <- data.frame(Words = vocabulary)\n",
    "priors <- NULL\n",
    "tot.words.per.lab <- NULL\n",
    "\n",
    "# number of training data\n",
    "N <- nrow(train)\n",
    "\n",
    "for (label in label_list) {\n",
    "    \n",
    "    # create list of words grouped by class\n",
    "    words_list <- do.call(c, train$Text_Clean[train$Labels == label])\n",
    "\n",
    "    # count total number of words in class i\n",
    "    tot.words <- length(words_list)\n",
    "\n",
    "    # save number of words per label\n",
    "    tot.words.per.lab  <- c(tot.words.per.lab, tot.words + length(vocabulary))\n",
    "\n",
    "    # calculate the conditional probability function for every word of the vocabulary\n",
    "    cond.prob.df[[paste0('Label_', label)]] <- sapply(cond.prob.df$Words, conditional_prob, words_list=words_list)\n",
    "\n",
    "    # normalize the conditional probabilities\n",
    "    Normalization <- (tot.words + length(vocabulary))\n",
    "    cond.prob.df[[paste0('Label_', label)]] <- cond.prob.df[[paste0('Label_', label)]]/Normalization\n",
    "\n",
    "    # calculate prior for the classes\n",
    "    N.c <- sum(train$Labels == label)\n",
    "    priors <- c(priors, N.c/N)\n",
    "}\n",
    "\n"
   ]
  },
  {
   "cell_type": "code",
   "execution_count": 35,
   "metadata": {
    "cell_id": "11d4850ac8734deea4b92fd37142fd36",
    "deepnote_cell_height": 245.60000610351562,
    "deepnote_cell_type": "code",
    "deepnote_to_be_reexecuted": false,
    "execution_millis": 14,
    "execution_start": 1655991083406,
    "source_hash": "6a802704",
    "tags": []
   },
   "outputs": [
    {
     "name": "stdout",
     "output_type": "stream",
     "text": [
      "'data.frame':\t1774 obs. of  7 variables:\n",
      " $ Words  : chr  \"aarp\" \"abbas\" \"abbott\" \"abdul\" ...\n",
      " $ Label_0: num  0.000333 0.000333 0.000333 0.000333 0.000333 ...\n",
      " $ Label_1: num  0.000294 0.000294 0.000294 0.000294 0.000294 ...\n",
      " $ Label_2: num  0.00055 0.000275 0.000275 0.000275 0.000275 ...\n",
      " $ Label_3: num  0.000289 0.000289 0.000289 0.000289 0.000579 ...\n",
      " $ Label_4: num  0.000401 0.000803 0.000803 0.000401 0.000401 ...\n",
      " $ Label_5: num  0.000323 0.000323 0.000323 0.000645 0.000323 ...\n"
     ]
    }
   ],
   "source": [
    "str(cond.prob.df)"
   ]
  },
  {
   "cell_type": "code",
   "execution_count": 36,
   "metadata": {
    "cell_id": "c6fa930340fb4cae8b7354a2ad691930",
    "deepnote_cell_height": 531,
    "deepnote_cell_type": "code",
    "deepnote_to_be_reexecuted": false,
    "execution_millis": 7,
    "execution_start": 1655991083423,
    "source_hash": "74f8efaf",
    "tags": []
   },
   "outputs": [],
   "source": [
    "posterior_prob <- function(text, cond.prob.df, priors, tot.words.per.lab){\n",
    "\n",
    "    # clean text to list of words\n",
    "    words_in_text <- clean_string(text)\n",
    "\n",
    "    filtered.df <- cond.prob.df[ vocabulary %in% words_in_text  ,]\n",
    "\n",
    "    # calculate log-likelihood dataframe\n",
    "    log.likelihood <- log(filtered.df[, 2:(1+length(label_list))])\n",
    "\n",
    "    # calculate log-posterior per label \n",
    "    log.posterior <- colSums(log.likelihood) + log(priors) \n",
    "\n",
    "    # count the number of words not in dictionary\n",
    "    number.new.words <- length(setdiff(words_in_text, vocabulary))\n",
    "\n",
    "    # calculate log posterior for the words not in the dictionary\n",
    "    log.posterior.new <- - number.new.words*log(tot.words.per.lab)\n",
    "\n",
    "    # update the posterior if we have words not in dictionary\n",
    "    log.posterior <- log.posterior + log.posterior.new\n",
    "\n",
    "    label <- unname(which.max(log.posterior) - 1)\n",
    "    return(label)\n",
    "}\n"
   ]
  },
  {
   "cell_type": "code",
   "execution_count": 37,
   "metadata": {
    "cell_id": "c1db2c0ecae14d1da8864292f5c7a480",
    "deepnote_cell_height": 153,
    "deepnote_cell_type": "code",
    "deepnote_to_be_reexecuted": false,
    "execution_millis": 208,
    "execution_start": 1655991083434,
    "source_hash": "daf724a5",
    "tags": []
   },
   "outputs": [],
   "source": [
    "# predict on test set\n",
    "labels_true <- test$Labels\n",
    "labels_predicted <- sapply(test$Text, posterior_prob,\n",
    "                    cond.prob.df = cond.prob.df, priors = priors, tot.words.per.lab = tot.words.per.lab)\n",
    "labels_predicted <- unname(labels_predicted)"
   ]
  },
  {
   "cell_type": "code",
   "execution_count": 38,
   "metadata": {
    "cell_id": "62d8c32d267047f891c0ab8a16618150",
    "deepnote_cell_height": 298.3999938964844,
    "deepnote_cell_type": "code",
    "deepnote_to_be_reexecuted": false,
    "execution_millis": 12,
    "execution_start": 1655991085037,
    "source_hash": "8c32bd0d",
    "tags": []
   },
   "outputs": [
    {
     "name": "stdout",
     "output_type": "stream",
     "text": [
      "     [,1] [,2] [,3] [,4] [,5] [,6]\n",
      "[1,] 0.17 0.23 0.17 0.04 0.16 0.18\n",
      "[2,] 0.22 0.15 0.14 0.08 0.19 0.16\n",
      "[3,] 0.17 0.31 0.24 0.38 0.21 0.23\n",
      "[4,] 0.30 0.00 0.21 0.21 0.15 0.23\n",
      "[5,] 0.04 0.15 0.00 0.00 0.16 0.02\n",
      "[6,] 0.09 0.15 0.24 0.29 0.12 0.18\n"
     ]
    }
   ],
   "source": [
    "# confusion matrix\n",
    "results <- table(factor(labels_true), factor(labels_predicted))\n",
    "results <- matrix(results, ncol = length(label_list))\n",
    "results <- t(t(results)/colSums(results))\n",
    "print(round(results, 2))"
   ]
  },
  {
   "cell_type": "code",
   "execution_count": 39,
   "metadata": {
    "cell_id": "c5371de8a9d44e93b7c87bd38ffd49ae",
    "deepnote_cell_height": 111.19999694824219,
    "deepnote_cell_type": "code",
    "deepnote_to_be_reexecuted": false,
    "execution_millis": 15,
    "execution_start": 1655991085052,
    "source_hash": "7feb8449",
    "tags": []
   },
   "outputs": [
    {
     "name": "stdout",
     "output_type": "stream",
     "text": [
      " chr [1:1774] \"aarp\" \"abbas\" \"abbott\" \"abdul\" \"abiding\" \"ability\" \"abolish\" ...\n"
     ]
    }
   ],
   "source": [
    "str(vocabulary)"
   ]
  },
  {
   "cell_type": "code",
   "execution_count": 40,
   "metadata": {
    "cell_id": "8f53596c544544ccb16d2f01793878b0",
    "deepnote_cell_height": 81,
    "deepnote_cell_type": "code",
    "deepnote_to_be_reexecuted": false,
    "execution_millis": 7,
    "execution_start": 1655991085070,
    "source_hash": "b623e53d",
    "tags": []
   },
   "outputs": [],
   "source": []
  },
  {
   "cell_type": "code",
   "execution_count": 41,
   "metadata": {
    "cell_id": "719491ca77ab463dafb7d3552e96fffe",
    "deepnote_cell_height": 81,
    "deepnote_cell_type": "code",
    "deepnote_to_be_reexecuted": false,
    "execution_millis": 10,
    "execution_start": 1655991085083,
    "source_hash": "b623e53d",
    "tags": []
   },
   "outputs": [],
   "source": []
  },
  {
   "cell_type": "code",
   "execution_count": null,
   "metadata": {
    "cell_id": "c966e2adc8d343f1a6b47228c9b788fd",
    "deepnote_cell_height": 66,
    "deepnote_cell_type": "code",
    "tags": []
   },
   "outputs": [],
   "source": []
  },
  {
   "cell_type": "markdown",
   "metadata": {
    "cell_id": "095ff037b0ac4f73b101c853bb341bfe",
    "deepnote_cell_height": 82,
    "deepnote_cell_type": "markdown",
    "tags": []
   },
   "source": [
    "# Functions"
   ]
  },
  {
   "cell_type": "code",
   "execution_count": null,
   "metadata": {
    "cell_id": "20f7449cf7354d3c86c0bef22d50759d",
    "deepnote_cell_height": 1164,
    "deepnote_cell_type": "code",
    "owner_user_id": "66111578-48f6-4041-8347-ed013a63b10d",
    "tags": []
   },
   "outputs": [],
   "source": [
    "features_selection <- function(train, vocabulary, k) {\n",
    "\n",
    "    # mutual information\n",
    "    mutual_information <- list()\n",
    "\n",
    "    # selected features\n",
    "    selected_features <- list()\n",
    "    \n",
    "    # function to count number of documents containing a given token\n",
    "    count_documents <- function(token, documents) {\n",
    "\n",
    "        counts <- sum(sapply(documents, function(x) token %in% x))\n",
    "        return(counts)\n",
    "\n",
    "    }\n",
    "\n",
    "    for (label in label_list) {\n",
    "\n",
    "        # number of documents that contain token t and have label l\n",
    "        N_11 <- sapply(vocabulary, count_documents, documents = train$Text_Clean[train$Labels == label], USE.NAMES = F)\n",
    "        # number of documents that do not contain token t and have label l\n",
    "        N_01 <- nrow(train[train$Labels == label,]) - N_11\n",
    "\n",
    "        # number of documents that contain token t and do not have label l\n",
    "        N_10 <- sapply(vocabulary, count_documents, documents = train$Text_Clean[train$Labels != label], USE.NAMES = F)\n",
    "        # number of documents that do not contain token t and do not have label l\n",
    "        N_00 <- nrow(train[train$Labels != label,]) - N_10\n",
    "\n",
    "        # total number of documents\n",
    "        N <- N_11 + N_01 + N_10 + N_00\n",
    "\n",
    "        # log losses\n",
    "        log_loss_11 <- ifelse(N_11 > 0, log2(N*N_11/((N_10 + N_11)*(N_01 + N_11))), 0)\n",
    "        log_loss_01 <- ifelse(N_01 > 0, log2(N*N_01/((N_00 + N_01)*(N_01 + N_11))), 0)\n",
    "        log_loss_10 <- ifelse(N_10 > 0, log2(N*N_10/((N_10 + N_11)*(N_00 + N_10))), 0)\n",
    "        log_loss_00 <- ifelse(N_00 > 0, log2(N*N_00/((N_00 + N_01)*(N_00 + N_10))), 0)\n",
    "        \n",
    "        # mutual information\n",
    "        MI <- (N_11/N)*log_loss_11 +\n",
    "            (N_01/N)*log_loss_01 + \n",
    "            (N_10/N)*log_loss_10 + \n",
    "            (N_00/N)*log_loss_00\n",
    "\n",
    "        # add names\n",
    "        names(MI) <- vocabulary\n",
    "\n",
    "        # add mutual information to the list\n",
    "        mutual_information[[paste0('Label_', label)]] <- MI\n",
    "\n",
    "        # sort\n",
    "        MI <- sort(MI, decreasing = T)\n",
    "\n",
    "        # select k [%] features\n",
    "        MI <- MI[1:floor(k*length(MI))]\n",
    "\n",
    "        # add selected features to the list\n",
    "        selected_features[[paste0('Label_', label)]] <- MI\n",
    " \n",
    "    }\n",
    "\n",
    "    return(list(mutual_information, selected_features))\n",
    "}"
   ]
  },
  {
   "cell_type": "code",
   "execution_count": null,
   "metadata": {
    "cell_id": "ed2223ea816d4dbeb1078de1b2aa372d",
    "deepnote_cell_height": 786,
    "deepnote_cell_type": "code",
    "tags": []
   },
   "outputs": [],
   "source": [
    "learning_model <- function(train, vocabulary) {\n",
    "\n",
    "    results <- list()\n",
    "\n",
    "    # create dataframe of conditional probabilities\n",
    "    cond.prob.df <- data.frame(Words = vocabulary)\n",
    "    priors <- NULL\n",
    "    tot.tokens.per.lab <- NULL\n",
    "\n",
    "    # number of training data\n",
    "    N <- nrow(train)\n",
    "\n",
    "    for (label in label_list) {\n",
    "        \n",
    "        # create list of words grouped by class\n",
    "        words_list <- do.call(c, train$Text_Clean[train$Labels == label])\n",
    "\n",
    "        # count total number of words in class i\n",
    "        tot.words <- length(words_list)\n",
    "\n",
    "        # save number of words per label\n",
    "        tot.tokens.per.lab  <- c(tot.tokens.per.lab, tot.words + length(vocabulary))\n",
    "\n",
    "        # calculate the conditional probability function for every word of the vocabulary\n",
    "        cond.prob.df[[paste0('Label_', label)]] <- sapply(cond.prob.df$Words, conditional_prob, words_list=words_list)\n",
    "\n",
    "        # normalize the conditional probabilities\n",
    "        Normalization <- (tot.words + length(vocabulary))\n",
    "        cond.prob.df[[paste0('Label_', label)]] <- cond.prob.df[[paste0('Label_', label)]]/Normalization\n",
    "\n",
    "        # calculate prior for the classes\n",
    "        N.c <- sum(train$Labels == label)\n",
    "        priors <- c(priors, N.c/N)\n",
    "    }\n",
    "\n",
    "    results[['conditional_probs']] <- conditional.prob.df\n",
    "    results[['priors']] <- priors\n",
    "    results[['tot_tokens_per_label']] <- tot.tokens.per.lab\n",
    "\n",
    "    return(results)\n",
    "}"
   ]
  },
  {
   "cell_type": "code",
   "execution_count": null,
   "metadata": {
    "cell_id": "e79633bccd50483cbb20a309209311e5",
    "deepnote_cell_height": 498,
    "deepnote_cell_type": "code",
    "tags": []
   },
   "outputs": [],
   "source": [
    "predict <- function(text, cond.prob.df, priors, tot.words.per.lab){\n",
    "\n",
    "    # clean text to list of words\n",
    "    words_in_text <- clean_string(text)\n",
    "\n",
    "    filtered.df <- cond.prob.df[ vocabulary %in% words_in_text  ,]\n",
    "\n",
    "    # calculate log-likelihood dataframe\n",
    "    log.likelihood <- log(filtered.df[, 2:(1+length(label_list))])\n",
    "\n",
    "    # calculate log-posterior per label \n",
    "    log.posterior <- colSums(log.likelihood) + log(priors) \n",
    "\n",
    "    # count the number of words not in dictionary\n",
    "    number.new.words <- length(setdiff(words_in_text, vocabulary))\n",
    "\n",
    "    # calculate log posterior for the words not in the dictionary\n",
    "    log.posterior.new <- - number.new.words*log(tot.words.per.lab)\n",
    "\n",
    "    # update the posterior if we have words not in dictionary\n",
    "    log.posterior <- log.posterior + log.posterior.new\n",
    "\n",
    "    label <- unname(which.max(log.posterior) - 1)\n",
    "    return(label)\n",
    "}"
   ]
  },
  {
   "cell_type": "code",
   "execution_count": null,
   "metadata": {
    "cell_id": "c0fa839ab67d4338bbc5886aae6bd89c",
    "deepnote_cell_height": 246,
    "deepnote_cell_type": "code",
    "tags": []
   },
   "outputs": [],
   "source": [
    "confusion_matrix <- function(labels_true, labels_predicted)\n",
    "\n",
    "    labels_predicted <- unname(labels_predicted)\n",
    "    \n",
    "    # confusion matrix\n",
    "    results <- table(factor(labels_true), factor(labels_predicted))\n",
    "    results <- matrix(results, ncol = length(label_list))\n",
    "    results <- t(t(results)/colSums(results))\n",
    "\n",
    "    return(round(results, 2))\n",
    "}"
   ]
  },
  {
   "cell_type": "code",
   "execution_count": null,
   "metadata": {
    "cell_id": "3836240f104c483fb31fd50f51993a61",
    "deepnote_cell_height": 102,
    "deepnote_cell_type": "code",
    "tags": []
   },
   "outputs": [],
   "source": [
    "accuracy <- function(labels_true, labels_predicted) {\n",
    "    return(sum(labels_true == labels_predicted)/length(labels_true))\n",
    "}"
   ]
  },
  {
   "cell_type": "code",
   "execution_count": null,
   "metadata": {
    "cell_id": "4980528b336e41cb9345bc62cdd2a6c1",
    "deepnote_cell_height": 102,
    "deepnote_cell_type": "code",
    "tags": []
   },
   "outputs": [],
   "source": [
    "evaluate <- function(labels_true, labels_predicted) {\n",
    "    return(list(confusion_matrix(abels_true, labels_predicted), accuracy(abels_true, labels_predicted)))\n",
    "}"
   ]
  },
  {
   "cell_type": "code",
   "execution_count": null,
   "metadata": {
    "cell_id": "edbccf4eb3f247a8aac424bdb7afcea3",
    "deepnote_cell_height": 210,
    "deepnote_cell_type": "code",
    "tags": []
   },
   "outputs": [],
   "source": [
    "make_vocabulary <- function(training_documents) {\n",
    "\n",
    "    tokens_list <- lapply(training_documents, clean_string)\n",
    "    # join every list of words into a unique list\n",
    "    res <- do.call(c, tokens_list)\n",
    "\n",
    "    # create the vocabulary of words of the training set\n",
    "    return(sort(unique(res)))\n",
    "}"
   ]
  },
  {
   "cell_type": "markdown",
   "metadata": {
    "cell_id": "8f5a99a726784d338a60f826cfb04b50",
    "deepnote_cell_height": 46,
    "deepnote_cell_type": "markdown",
    "tags": []
   },
   "source": []
  },
  {
   "cell_type": "markdown",
   "metadata": {
    "created_in_deepnote_cell": true,
    "deepnote_cell_type": "markdown",
    "tags": []
   },
   "source": [
    "<a style='text-decoration:none;line-height:16px;display:flex;color:#5B5B62;padding:10px;justify-content:end;' href='https://deepnote.com?utm_source=created-in-deepnote-cell&projectId=c1e2dbe3-db00-4294-a1c3-86210f654930' target=\"_blank\">\n",
    "<img alt='Created in deepnote.com' style='display:inline;max-height:16px;margin:0px;margin-right:7.5px;' src='data:image/svg+xml;base64,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' > </img>\n",
    "Created in <span style='font-weight:600;margin-left:4px;'>Deepnote</span></a>"
   ]
  }
 ],
 "metadata": {
  "deepnote": {},
  "deepnote_execution_queue": [],
  "deepnote_notebook_id": "b2d59950-0c98-4961-b7ce-3b5caca5656b",
  "kernelspec": {
   "display_name": "R",
   "language": "R",
   "name": "ir"
  },
  "language_info": {
   "codemirror_mode": "r",
   "file_extension": ".r",
   "mimetype": "text/x-r-source",
   "name": "R",
   "pygments_lexer": "r",
   "version": "4.0.5"
  }
 },
 "nbformat": 4,
 "nbformat_minor": 2
}
