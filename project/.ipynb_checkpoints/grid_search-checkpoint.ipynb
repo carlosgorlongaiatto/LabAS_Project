{
 "cells": [
  {
   "cell_type": "code",
   "execution_count": 1,
   "metadata": {
    "cell_id": "1f26e1f839c74aa6be25ad6ac4a822e6",
    "deepnote_cell_height": 243,
    "deepnote_cell_type": "code",
    "deepnote_to_be_reexecuted": false,
    "execution_millis": 60,
    "execution_start": 1656003632820,
    "source_hash": "561b35fb",
    "tags": []
   },
   "outputs": [
    {
     "name": "stderr",
     "output_type": "stream",
     "text": [
      "Loading required package: koRpus.lang.en\n",
      "\n",
      "Loading required package: koRpus\n",
      "\n",
      "Loading required package: sylly\n",
      "\n",
      "For information on available language packages for 'koRpus', run\n",
      "\n",
      "  available.koRpus.lang()\n",
      "\n",
      "and see ?install.koRpus.lang()\n",
      "\n",
      "\n"
     ]
    }
   ],
   "source": [
    "# install packages\n",
    "#install.packages('stringr')\n",
    "#install.packages('stopwords')\n",
    "#install.packages('textstem', dependencies=T)\n",
    "\n",
    "# import packages\n",
    "library(stringr)\n",
    "library(stopwords)\n",
    "library(SnowballC)\n",
    "library(textstem)"
   ]
  },
  {
   "cell_type": "markdown",
   "metadata": {
    "cell_id": "095ff037b0ac4f73b101c853bb341bfe",
    "deepnote_cell_height": 82,
    "deepnote_cell_type": "markdown",
    "tags": []
   },
   "source": [
    "# Functions"
   ]
  },
  {
   "cell_type": "code",
   "execution_count": 2,
   "metadata": {
    "cell_id": "3d7844a5a28a4a3394a0b8c0faa8b962",
    "deepnote_cell_height": 441,
    "deepnote_cell_type": "code",
    "deepnote_to_be_reexecuted": false,
    "execution_millis": 1,
    "execution_start": 1656003632926,
    "source_hash": "7b2212b2",
    "tags": []
   },
   "outputs": [],
   "source": [
    "# define function to tokenize document (bag of words model)\n",
    "tokenize <- function(document) {\n",
    "\n",
    "    # lowercase\n",
    "    temp <- tolower(document)\n",
    "\n",
    "    # remove everything that is not a letter\n",
    "    temp <- str_replace_all(temp, '[^a-z\\\\s]', ' ')\n",
    "\n",
    "    # shrink down to just one white space\n",
    "    temp <- str_replace_all(temp,'[\\\\s]+', ' ')\n",
    "\n",
    "    # split it\n",
    "    temp <- str_split(temp, ' ')[[1]]\n",
    "    \n",
    "    # remove empty characters\n",
    "    temp <- temp[!(temp %in% '')]\n",
    "\n",
    "    return(temp)\n",
    "\n",
    "}"
   ]
  },
  {
   "cell_type": "code",
   "execution_count": 3,
   "metadata": {
    "cell_id": "9fac7b14f48040fb91486c7f3bb3e3b3",
    "deepnote_cell_height": 279,
    "deepnote_cell_type": "code",
    "deepnote_to_be_reexecuted": false,
    "execution_millis": 29,
    "execution_start": 1656003632927,
    "source_hash": "b0d6dc44",
    "tags": []
   },
   "outputs": [],
   "source": [
    "cleaning <- function(document) {\n",
    "\n",
    "    # remove stop words\n",
    "    stop_words <- unique(str_split(paste0(stopwords(), collapse = ' '), '[\\\\s|\\']')[[1]])\n",
    "    temp <- document[!(document %in% stop_words)]\n",
    "\n",
    "    # remove single letters\n",
    "    temp <- temp[!(temp %in% letters)]\n",
    "\n",
    "    return(temp)\n",
    "\n",
    "}"
   ]
  },
  {
   "cell_type": "code",
   "execution_count": 4,
   "metadata": {
    "cell_id": "4afe1c3f9bf24361b60fc830bc323e09",
    "deepnote_cell_height": 297,
    "deepnote_cell_type": "code",
    "deepnote_to_be_reexecuted": false,
    "execution_millis": 0,
    "execution_start": 1656003632957,
    "source_hash": "5c0ce883",
    "tags": []
   },
   "outputs": [],
   "source": [
    "pre_processing <- function(document, CLEAN = TRUE, STEM = FAlSE, LEM = FALSE) {\n",
    "\n",
    "    # transform string in tokens\n",
    "    document <- tokenize(document)\n",
    "\n",
    "    # clean tokens\n",
    "    if (CLEAN) { document <- cleaning(document) }\n",
    "\n",
    "    # stem tokens\n",
    "    if (STEM) { document <- stem_words(document) }\n",
    "    \n",
    "    # lemmatize tokens\n",
    "    if (LEM) { document <- lemmatize_words(document) }\n",
    "\n",
    "    return(document)\n",
    "}"
   ]
  },
  {
   "cell_type": "code",
   "execution_count": 5,
   "metadata": {
    "cell_id": "7ec8bfb12c9f43618e4b6b7cf88938bc",
    "deepnote_cell_height": 225,
    "deepnote_cell_type": "code",
    "deepnote_to_be_reexecuted": false,
    "execution_millis": 1,
    "execution_start": 1656003632958,
    "source_hash": "b1c35a88",
    "tags": []
   },
   "outputs": [],
   "source": [
    "make_vocabulary <- function(train) {\n",
    "\n",
    "    # join every list of tokens into a unique list\n",
    "    res <- do.call(c, train$Tokens)\n",
    "\n",
    "    # create the vocabulary of words of the training set\n",
    "    return(sort(unique(res)))\n",
    "\n",
    "}"
   ]
  },
  {
   "cell_type": "code",
   "execution_count": 6,
   "metadata": {
    "cell_id": "20f7449cf7354d3c86c0bef22d50759d",
    "deepnote_cell_height": 981,
    "deepnote_cell_type": "code",
    "deepnote_to_be_reexecuted": false,
    "execution_millis": 2,
    "execution_start": 1656003632963,
    "owner_user_id": "4056cfae-e546-4483-b374-f55676543ebc",
    "source_hash": "39f7f78a",
    "tags": []
   },
   "outputs": [],
   "source": [
    "get_mutual_information <- function(train, vocabulary) {\n",
    "\n",
    "    # mutual information\n",
    "    mutual_information <- list()\n",
    "    \n",
    "    # function to count number of documents containing a given token\n",
    "    count_documents <- function(token, documents) {\n",
    "\n",
    "        counts <- sum(sapply(documents, function(x) token %in% x))\n",
    "        return(counts)\n",
    "\n",
    "    }\n",
    "\n",
    "    for (label in label_list) {\n",
    "\n",
    "        # number of documents that contain token t and have label l\n",
    "        N_11 <- sapply(vocabulary, count_documents, documents = train$Tokens[train$Labels == label], USE.NAMES = F)\n",
    "        # number of documents that do not contain token t and have label l\n",
    "        N_01 <- nrow(train[train$Labels == label,]) - N_11\n",
    "\n",
    "        # number of documents that contain token t and do not have label l\n",
    "        N_10 <- sapply(vocabulary, count_documents, documents = train$Tokens[train$Labels != label], USE.NAMES = F)\n",
    "        # number of documents that do not contain token t and do not have label l\n",
    "        N_00 <- nrow(train[train$Labels != label,]) - N_10\n",
    "\n",
    "        # total number of documents\n",
    "        N <- N_11 + N_01 + N_10 + N_00\n",
    "\n",
    "        # log losses\n",
    "        log_loss_11 <- ifelse(N_11 > 0, log2(N*N_11/((N_10 + N_11)*(N_01 + N_11))), 0)\n",
    "        log_loss_01 <- ifelse(N_01 > 0, log2(N*N_01/((N_00 + N_01)*(N_01 + N_11))), 0)\n",
    "        log_loss_10 <- ifelse(N_10 > 0, log2(N*N_10/((N_10 + N_11)*(N_00 + N_10))), 0)\n",
    "        log_loss_00 <- ifelse(N_00 > 0, log2(N*N_00/((N_00 + N_01)*(N_00 + N_10))), 0)\n",
    "        \n",
    "        # mutual information\n",
    "        MI <- (N_11/N)*log_loss_11 +\n",
    "            (N_01/N)*log_loss_01 + \n",
    "            (N_10/N)*log_loss_10 + \n",
    "            (N_00/N)*log_loss_00\n",
    "\n",
    "        # add names\n",
    "        names(MI) <- vocabulary\n",
    "\n",
    "        # add mutual information to the list\n",
    "        mutual_information[[paste0('Label_', label)]] <- MI\n",
    " \n",
    "    }\n",
    "\n",
    "    return(mutual_information)\n",
    "         \n",
    "}"
   ]
  },
  {
   "cell_type": "code",
   "execution_count": 7,
   "metadata": {
    "cell_id": "45a9db26f33b4520b54f8fdce8c93c44",
    "deepnote_cell_height": 567,
    "deepnote_cell_type": "code",
    "deepnote_to_be_reexecuted": false,
    "execution_millis": 6,
    "execution_start": 1656003632969,
    "source_hash": "a0af6858",
    "tags": []
   },
   "outputs": [],
   "source": [
    "features_selection <- function(mutual_information, k) {\n",
    "\n",
    "    # selected features\n",
    "    selected_features <- list()\n",
    "\n",
    "    for (label in label_list) {\n",
    "\n",
    "        # sort\n",
    "        MI <- sort(mutual_information[[paste0('Label_', label)]], decreasing = T)\n",
    "\n",
    "        # select k [%] features\n",
    "        MI <- MI[1:floor(k*length(MI))]\n",
    "\n",
    "        # add selected features to the list\n",
    "        selected_features[[paste0('Label_', label)]] <- MI\n",
    "\n",
    "    }\n",
    "\n",
    "    # join every named vector into a unique list\n",
    "    res <- do.call(c, unname(selected_features))\n",
    "\n",
    "    # create the new vocabulary of tokens of the training set after feature selection\n",
    "    vocabulary <- sort(unique(names(res)))\n",
    "\n",
    "    return(list(selected_features = selected_features,\n",
    "                vocabulary = vocabulary))\n",
    "\n",
    "}"
   ]
  },
  {
   "cell_type": "code",
   "execution_count": 8,
   "metadata": {
    "cell_id": "d8967c6260114f448d48fbba7f0b8511",
    "deepnote_cell_height": 369,
    "deepnote_cell_type": "code",
    "deepnote_to_be_reexecuted": false,
    "execution_millis": 1,
    "execution_start": 1656003633009,
    "source_hash": "c194ab17",
    "tags": []
   },
   "outputs": [],
   "source": [
    "plot_MI <- function(mutual_information, k) {\n",
    "\n",
    "    # plot ordered mutual information for each class\n",
    "    options(repr.plot.width = 15, repr.plot.height = 10)\n",
    "    par(mfrow = c(ceiling(length(label_list)/3), 3))\n",
    "\n",
    "    for (label in label_list) {\n",
    "\n",
    "        MI <- mutual_information[[paste0('Label_', label)]]\n",
    "        MI[is.nan(MI)] <- 0\n",
    "        MI <- sort(MI, decreasing = T)\n",
    "        plot(1:length(MI), MI, ylim = c(0, 0.015), type = 'l', lwd = 2, col = 'navyblue',\n",
    "            main = paste0('Label_', label), xlab = 'word index', ylab = 'MI',\n",
    "            cex.lab = 1.5, cex.axis = 1.5, cex.main = 2)\n",
    "        abline(v = floor(k*length(MI)), lwd = 2, lty = 2, col = 'red')       \n",
    "    }\n",
    "}"
   ]
  },
  {
   "cell_type": "code",
   "execution_count": 9,
   "metadata": {
    "cell_id": "ed2223ea816d4dbeb1078de1b2aa372d",
    "deepnote_cell_height": 891,
    "deepnote_cell_type": "code",
    "deepnote_to_be_reexecuted": false,
    "execution_millis": 1,
    "execution_start": 1656003633010,
    "source_hash": "a43d5439",
    "tags": []
   },
   "outputs": [],
   "source": [
    "learning_model <- function(train, vocabulary) {\n",
    "\n",
    "    # create dataframe of conditional probabilities\n",
    "    conditional_probs <- data.frame(Token = vocabulary)\n",
    "    priors <- NULL\n",
    "    tot_tokens_per_label <- NULL\n",
    "\n",
    "    # number of training data\n",
    "    N <- nrow(train)\n",
    "\n",
    "    # function to compute unormalized conditional probability with Laplace smoothing\n",
    "    conditional_prob <- function(token, tokens_list){\n",
    "\n",
    "        n_token <- sum(tokens_list == token) + 1\n",
    "        return(n_token)\n",
    "\n",
    "    }\n",
    "\n",
    "    for (label in label_list) {\n",
    "        \n",
    "        # create list of tokens grouped by label\n",
    "        tokens_list <- do.call(c, train$Tokens[train$Labels == label])\n",
    "\n",
    "        # count total number of token in label l\n",
    "        tot_tokens <- length(tokens_list)\n",
    "\n",
    "        # save number of tokens per label (will be used in the test set)\n",
    "        tot_tokens_per_label  <- c(tot_tokens_per_label, tot_tokens + length(vocabulary))\n",
    "\n",
    "        # calculate the conditional probability function for every token of the vocabulary\n",
    "        conditional_probs[[paste0('Label_', label)]] <- sapply(conditional_probs$Token, conditional_prob, tokens_list=tokens_list)\n",
    "\n",
    "        # normalize the conditional probabilities\n",
    "        normalization <- (tot_tokens+ length(vocabulary))\n",
    "        conditional_probs[[paste0('Label_', label)]] <- conditional_probs[[paste0('Label_', label)]]/normalization\n",
    "\n",
    "        # calculate prior for the labels\n",
    "        N_l <- sum(train$Labels == label)\n",
    "        priors <- c(priors, N_l/N)\n",
    "    }\n",
    "\n",
    "    return(list(conditional_probs = conditional_probs,\n",
    "                priors = priors,\n",
    "                tot_tokens_per_label = tot_tokens_per_label))\n",
    "\n",
    "}"
   ]
  },
  {
   "cell_type": "code",
   "execution_count": 10,
   "metadata": {
    "cell_id": "e79633bccd50483cbb20a309209311e5",
    "deepnote_cell_height": 549,
    "deepnote_cell_type": "code",
    "deepnote_to_be_reexecuted": false,
    "execution_millis": 5,
    "execution_start": 1656003633011,
    "source_hash": "54645928",
    "tags": []
   },
   "outputs": [],
   "source": [
    "predict <- function(document, vocabulary,\n",
    "                    conditional_probs, priors, tot_tokens_per_label,\n",
    "                    CLEAN = TRUE, STEM = FALSE, LEM = FALSE){\n",
    "\n",
    "    # pre-process document\n",
    "    tokens_in_document <- pre_processing(document, CLEAN = CLEAN, STEM = STEM, LEM = LEM)\n",
    "\n",
    "    # select conditional probabilities of token in document\n",
    "    conditional_probs <- conditional_probs[vocabulary %in% tokens_in_document,]\n",
    "\n",
    "    # calculate log-likelihood of the document for each label\n",
    "    log_likelihood <- colSums(log(conditional_probs[, 2:(1+length(label_list))]))\n",
    "\n",
    "    # calculate log-posterior for each label \n",
    "    log_posterior <- log_likelihood + log(priors) \n",
    "\n",
    "    # count the number of tokens not in the vocabulary\n",
    "    n_unseen_tokens <- length(setdiff(tokens_in_document, vocabulary))\n",
    "\n",
    "    # add the log-posterior for the tokens not in the vocabulary\n",
    "    log_posterior <- log_posterior - n_unseen_tokens*log(tot_tokens_per_label)\n",
    "\n",
    "    predicted_label <- unname(which.max(log_posterior) - 1)\n",
    "\n",
    "    return(predicted_label)\n",
    "\n",
    "}"
   ]
  },
  {
   "cell_type": "code",
   "execution_count": 11,
   "metadata": {
    "cell_id": "c0fa839ab67d4338bbc5886aae6bd89c",
    "deepnote_cell_height": 297,
    "deepnote_cell_type": "code",
    "deepnote_to_be_reexecuted": false,
    "execution_millis": 0,
    "execution_start": 1656003633058,
    "source_hash": "1ef57ef0",
    "tags": []
   },
   "outputs": [],
   "source": [
    "get_confusion_matrix <- function(true_labels, predicted_labels) {\n",
    "\n",
    "    predicted_labels <- unname(predicted_labels)\n",
    "    \n",
    "    # confusion matrix\n",
    "    res <- table(factor(true_labels), factor(predicted_labels))\n",
    "    res <- matrix(res, ncol = length(label_list))\n",
    "    res <- t(t(res)/colSums(res))\n",
    "    res <- round(res, 2)\n",
    "\n",
    "    return(res)\n",
    "\n",
    "}"
   ]
  },
  {
   "cell_type": "code",
   "execution_count": 12,
   "metadata": {
    "cell_id": "3836240f104c483fb31fd50f51993a61",
    "deepnote_cell_height": 117,
    "deepnote_cell_type": "code",
    "deepnote_to_be_reexecuted": false,
    "execution_millis": 1,
    "execution_start": 1656003633059,
    "source_hash": "b66d9e91",
    "tags": []
   },
   "outputs": [],
   "source": [
    "get_accuracy <- function(true_labels, predicted_labels) {\n",
    "    return(sum(true_labels == predicted_labels)/length(true_labels))\n",
    "}"
   ]
  },
  {
   "cell_type": "code",
   "execution_count": 13,
   "metadata": {
    "cell_id": "4980528b336e41cb9345bc62cdd2a6c1",
    "deepnote_cell_height": 171,
    "deepnote_cell_type": "code",
    "deepnote_to_be_reexecuted": false,
    "execution_millis": 1,
    "execution_start": 1656003633060,
    "source_hash": "aceeb6e6",
    "tags": []
   },
   "outputs": [],
   "source": [
    "evaluate <- function(true_labels, predicted_labels) {\n",
    "\n",
    "    return(list(confusion_matrix = get_confusion_matrix(true_labels, predicted_labels),\n",
    "                accuracy = get_accuracy(true_labels, predicted_labels)))\n",
    "                \n",
    "}"
   ]
  },
  {
   "cell_type": "markdown",
   "metadata": {},
   "source": [
    "## GRID SEARCH"
   ]
  },
  {
   "cell_type": "code",
   "execution_count": 14,
   "metadata": {},
   "outputs": [],
   "source": [
    "set.seed(54321)\n",
    "\n",
    "# import data\n",
    "data <- read.csv('data/train.csv')\n",
    "data <- data[sample(nrow(data), 100),]\n",
    "\n",
    "# merge close labels\n",
    "#data$Labels <- sapply(data$Labels, function(x) switch(x+1, 0, 0, 1, 2, 1, 2))\n",
    "\n",
    "# get labels\n",
    "label_list <- sort(unique(data$Labels))\n",
    "\n",
    "# split training and test set\n",
    "sample <- sample(c(TRUE, FALSE), nrow(data), replace = TRUE, prob = c(0.8,0.2))\n",
    "train <- data[sample,]\n",
    "test <- data[!sample,]"
   ]
  },
  {
   "cell_type": "code",
   "execution_count": 15,
   "metadata": {},
   "outputs": [],
   "source": [
    "# grid search in k\n",
    "k_grid <- seq(0.02, 1, 0.02)\n",
    "opt_grid <- list(c(F,F,F), c(T,F,F), c(T,T,F), c(T,F,T))\n",
    "# accuracy grid\n",
    "accuracy_grid <- matrix(0, nrow=length(opt_grid), ncol=length(k_grid))\n",
    "\n",
    "\n",
    "for (o in 1:length(opt_grid)) {\n",
    "    \n",
    "    \n",
    "    # pre-process documents in training set\n",
    "    train$Tokens <- lapply(train$Text, pre_processing, CLEAN = opt_grid[[o]][1], STEM = opt_grid[[o]][2], LEM = opt_grid[[o]][3])\n",
    "\n",
    "    # make vocabulary\n",
    "    vocabulary <- make_vocabulary(train)\n",
    "    \n",
    "    # mutual information\n",
    "    mutual_information <- get_mutual_information(train, vocabulary)\n",
    "    \n",
    "    \n",
    "    \n",
    "    for (i in 1:length(k_grid)) {\n",
    "        \n",
    "        \n",
    "        # features selection\n",
    "        k <- k_grid[i]\n",
    "        res <- features_selection(mutual_information, k)\n",
    "\n",
    "        selected_features <- res$selected_features\n",
    "        vocabulary <- res$vocabulary\n",
    "        \n",
    "        \n",
    "        # learning model\n",
    "        res <- learning_model(train, vocabulary)\n",
    "\n",
    "        conditional_probs <- res$conditional_probs\n",
    "        priors <- res$priors\n",
    "        tot_tokens_per_label <- res$tot_tokens_per_label\n",
    "        \n",
    "        # predict\n",
    "        true_labels <- test$Labels\n",
    "        predicted_labels <- sapply(test$Text, predict, \n",
    "                            vocabulary = vocabulary,\n",
    "                            conditional_probs = conditional_probs, priors = priors,\n",
    "                            tot_tokens_per_label = tot_tokens_per_label,\n",
    "                            CLEAN = opt_grid[[o]][1], STEM = opt_grid[[o]][2], LEM = opt_grid[[o]][3],\n",
    "                            USE.NAMES = F)\n",
    "        \n",
    "        # evaluate\n",
    "        res <- evaluate(true_labels, predicted_labels)\n",
    "        accuracy <- res$accuracy\n",
    "        accuracy_grid[o, i] <- accuracy\n",
    "        \n",
    "    }\n",
    "}"
   ]
  },
  {
   "cell_type": "code",
   "execution_count": 16,
   "metadata": {},
   "outputs": [],
   "source": [
    "colnames(accuracy_grid) <- k_grid\n",
    "write.csv(accuracy_grid, 'acc_grid.csv', row.names=F)"
   ]
  },
  {
   "cell_type": "code",
   "execution_count": 21,
   "metadata": {},
   "outputs": [
    {
     "data": {
      "image/png": "[encoded data removed]",
      "text/plain": [
       "plot without title"
      ]
     },
     "metadata": {
      "image/png": {
       "height": 600,
       "width": 900
      }
     },
     "output_type": "display_data"
    }
   ],
   "source": [
    "col <- c('green', 'navy', 'orange')\n",
    "\n",
    "options(repr.plot.width = 15, repr.plot.height = 10)\n",
    "\n",
    "plot(k_grid, accuracy_grid[1,], type='l', col='red', ylim=c(0,max(accuracy_grid)+0.2), xlab='k', ylab='accuracy')\n",
    "\n",
    "for (i in 2:length(opt_grid)) {    \n",
    "    points(k_grid, accuracy_grid[i,], type = 'l', col=col[i-1])\n",
    "}\n",
    "\n",
    "grid(lty=2)\n",
    "\n",
    "legend(0.7,max(accuracy_grid)+0.2,\n",
    "       legend = c(opt_grid[1], opt_grid[2],opt_grid[3],opt_grid[4]),\n",
    "       lty = 1,\n",
    "       col = c('red','green', 'navy', 'orange'),\n",
    "       bty = 'n',\n",
    "       cex = 1.2,\n",
    "       lwd = 1)"
   ]
  },
  {
   "cell_type": "markdown",
   "metadata": {
    "created_in_deepnote_cell": true,
    "deepnote_cell_type": "markdown",
    "tags": []
   },
   "source": [
    "<a style='text-decoration:none;line-height:16px;display:flex;color:#5B5B62;padding:10px;justify-content:end;' href='https://deepnote.com?utm_source=created-in-deepnote-cell&projectId=c1e2dbe3-db00-4294-a1c3-86210f654930' target=\"_blank\">\n",
    "<img alt='Created in deepnote.com' style='display:inline;max-height:16px;margin:0px;margin-right:7.5px;' src='data:image/svg+xml;base64,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' > </img>\n",
    "Created in <span style='font-weight:600;margin-left:4px;'>Deepnote</span></a>"
   ]
  }
 ],
 "metadata": {
  "deepnote": {},
  "deepnote_execution_queue": [],
  "deepnote_notebook_id": "b2d59950-0c98-4961-b7ce-3b5caca5656b",
  "kernelspec": {
   "display_name": "R",
   "language": "R",
   "name": "ir"
  },
  "language_info": {
   "codemirror_mode": "r",
   "file_extension": ".r",
   "mimetype": "text/x-r-source",
   "name": "R",
   "pygments_lexer": "r",
   "version": "4.0.5"
  }
 },
 "nbformat": 4,
 "nbformat_minor": 2
}
